{
 "cells": [
  {
   "cell_type": "markdown",
   "id": "4f8ad4df",
   "metadata": {},
   "source": [
    "# Free apps analysis\n",
    "## Profitable App Profiles for the App Store and Google Play Markets\n",
    "*Goal: Understand what type of free apps are likely to attract more users on Google Play and the App Store*"
   ]
  },
  {
   "cell_type": "code",
   "execution_count": 1,
   "id": "5bfa8f8e",
   "metadata": {},
   "outputs": [],
   "source": [
    "from csv import reader\n",
    "opened_file1 = open(\"C:/Users/Daniel Mendes/Projects/Databases/AppleStore.csv\", encoding=\"utf8\")\n",
    "read_file1 = reader(opened_file1)\n",
    "Apple_Store_Dataset = list(read_file1)\n",
    "opened_file2 = open(\"C:/Users/Daniel Mendes/Projects/Databases/GooglePlayStore.csv\", encoding=\"utf8\")\n",
    "read_file2 = reader(opened_file2)\n",
    "Play_Store_Dataset = list(read_file2)"
   ]
  },
  {
   "cell_type": "code",
   "execution_count": 2,
   "id": "9765ae29",
   "metadata": {},
   "outputs": [],
   "source": [
    "def explore_data(dataset, start, end, rows_and_columns=False):\n",
    "    dataset_slice = dataset[start:end]    \n",
    "    for row in dataset_slice:\n",
    "        print(row)\n",
    "        print('\\n') # adds a new (empty) line after each row\n",
    "\n",
    "    if rows_and_columns:\n",
    "        print('Number of rows:', len(dataset))\n",
    "        print('Number of columns:', len(dataset[0]))"
   ]
  },
  {
   "cell_type": "code",
   "execution_count": 3,
   "id": "42569760",
   "metadata": {},
   "outputs": [
    {
     "name": "stdout",
     "output_type": "stream",
     "text": [
      "['', 'id', 'track_name', 'size_bytes', 'currency', 'price', 'rating_count_tot', 'rating_count_ver', 'user_rating', 'user_rating_ver', 'ver', 'cont_rating', 'prime_genre', 'sup_devices.num', 'ipadSc_urls.num', 'lang.num', 'vpp_lic']\n",
      "\n",
      "\n",
      "['1', '281656475', 'PAC-MAN Premium', '100788224', 'USD', '3.99', '21292', '26', '4', '4.5', '6.3.5', '4+', 'Games', '38', '5', '10', '1']\n",
      "\n",
      "\n",
      "['2', '281796108', 'Evernote - stay organized', '158578688', 'USD', '0', '161065', '26', '4', '3.5', '8.2.2', '4+', 'Productivity', '37', '5', '23', '1']\n",
      "\n",
      "\n",
      "Number of rows: 7198\n",
      "Number of columns: 17\n"
     ]
    }
   ],
   "source": [
    "explore_data(Apple_Store_Dataset, 0, 3, True)"
   ]
  },
  {
   "cell_type": "code",
   "execution_count": 4,
   "id": "82d5b034",
   "metadata": {},
   "outputs": [
    {
     "name": "stdout",
     "output_type": "stream",
     "text": [
      "['App', 'Category', 'Rating', 'Reviews', 'Size', 'Installs', 'Type', 'Price', 'Content Rating', 'Genres', 'Last Updated', 'Current Ver', 'Android Ver']\n",
      "\n",
      "\n",
      "['Photo Editor & Candy Camera & Grid & ScrapBook', 'ART_AND_DESIGN', '4.1', '159', '19M', '10,000+', 'Free', '0', 'Everyone', 'Art & Design', 'January 7, 2018', '1.0.0', '4.0.3 and up']\n",
      "\n",
      "\n",
      "['Coloring book moana', 'ART_AND_DESIGN', '3.9', '967', '14M', '500,000+', 'Free', '0', 'Everyone', 'Art & Design;Pretend Play', 'January 15, 2018', '2.0.0', '4.0.3 and up']\n",
      "\n",
      "\n",
      "Number of rows: 10842\n",
      "Number of columns: 13\n"
     ]
    }
   ],
   "source": [
    "explore_data(Play_Store_Dataset, 0, 3, True)"
   ]
  },
  {
   "cell_type": "markdown",
   "id": "12f6494b",
   "metadata": {},
   "source": [
    "## Data Cleaning"
   ]
  },
  {
   "cell_type": "code",
   "execution_count": 5,
   "id": "6a00c0f5",
   "metadata": {},
   "outputs": [
    {
     "name": "stdout",
     "output_type": "stream",
     "text": [
      "10473\n",
      "12\n"
     ]
    }
   ],
   "source": [
    "for row in Play_Store_Dataset[0:]:\n",
    "    if len(row) != len(Play_Store_Dataset[0]):\n",
    "        print(Play_Store_Dataset.index(row))\n",
    "        print(len(row))"
   ]
  },
  {
   "cell_type": "code",
   "execution_count": 6,
   "id": "242a2709",
   "metadata": {},
   "outputs": [],
   "source": [
    "del Play_Store_Dataset[10473]"
   ]
  },
  {
   "cell_type": "code",
   "execution_count": 7,
   "id": "5f633a77",
   "metadata": {},
   "outputs": [
    {
     "name": "stdout",
     "output_type": "stream",
     "text": [
      "1181\n",
      "['Quick PDF Scanner + OCR FREE', 'Box', 'Google My Business', 'ZOOM Cloud Meetings', 'join.me - Simple Meetings']\n",
      "Expected length: 9659\n"
     ]
    }
   ],
   "source": [
    "duplicate_apps = []\n",
    "unique_apps = []\n",
    "\n",
    "for row in Play_Store_Dataset[1:]:\n",
    "    name = row[0]\n",
    "    if name in unique_apps:\n",
    "        duplicate_apps.append(name)\n",
    "    else:\n",
    "        unique_apps.append(name)\n",
    "\n",
    "print(len(duplicate_apps))\n",
    "print(duplicate_apps [:5])\n",
    "expected_length = int(len(Play_Store_Dataset[1:]) - len(duplicate_apps))\n",
    "print('Expected length:', expected_length)"
   ]
  },
  {
   "cell_type": "code",
   "execution_count": 8,
   "id": "b38168a1",
   "metadata": {},
   "outputs": [
    {
     "name": "stdout",
     "output_type": "stream",
     "text": [
      "['Quick PDF Scanner + OCR FREE', 'BUSINESS', '4.2', '80805', 'Varies with device', '5,000,000+', 'Free', '0', 'Everyone', 'Business', 'February 26, 2018', 'Varies with device', '4.0.3 and up']\n",
      "['Quick PDF Scanner + OCR FREE', 'BUSINESS', '4.2', '80805', 'Varies with device', '5,000,000+', 'Free', '0', 'Everyone', 'Business', 'February 26, 2018', 'Varies with device', '4.0.3 and up']\n",
      "['Quick PDF Scanner + OCR FREE', 'BUSINESS', '4.2', '80804', 'Varies with device', '5,000,000+', 'Free', '0', 'Everyone', 'Business', 'February 26, 2018', 'Varies with device', '4.0.3 and up']\n"
     ]
    }
   ],
   "source": [
    "for row in Play_Store_Dataset[1:]:\n",
    "    name = row[0]\n",
    "    if name == 'Quick PDF Scanner + OCR FREE':\n",
    "        print(row)"
   ]
  },
  {
   "cell_type": "code",
   "execution_count": 9,
   "id": "1be4f159",
   "metadata": {},
   "outputs": [
    {
     "name": "stdout",
     "output_type": "stream",
     "text": [
      "9659\n"
     ]
    }
   ],
   "source": [
    "reviews_max = {}\n",
    "for row in Play_Store_Dataset[1:]:\n",
    "    name = row[0]\n",
    "    reviews = int(row[3])\n",
    "    if name in reviews_max and reviews_max[name] < reviews:\n",
    "        reviews_max[name] = reviews\n",
    "    elif name not in reviews_max:\n",
    "        reviews_max[name] = reviews\n",
    "\n",
    "print(len(reviews_max))"
   ]
  },
  {
   "cell_type": "code",
   "execution_count": 10,
   "id": "af682066",
   "metadata": {},
   "outputs": [
    {
     "name": "stdout",
     "output_type": "stream",
     "text": [
      "['Photo Editor & Candy Camera & Grid & ScrapBook', 'ART_AND_DESIGN', '4.1', '159', '19M', '10,000+', 'Free', '0', 'Everyone', 'Art & Design', 'January 7, 2018', '1.0.0', '4.0.3 and up']\n",
      "\n",
      "\n",
      "['U Launcher Lite – FREE Live Cool Themes, Hide Apps', 'ART_AND_DESIGN', '4.7', '87510', '8.7M', '5,000,000+', 'Free', '0', 'Everyone', 'Art & Design', 'August 1, 2018', '1.2.4', '4.0.3 and up']\n",
      "\n",
      "\n",
      "['Sketch - Draw & Paint', 'ART_AND_DESIGN', '4.5', '215644', '25M', '50,000,000+', 'Free', '0', 'Teen', 'Art & Design', 'June 8, 2018', 'Varies with device', '4.2 and up']\n",
      "\n",
      "\n",
      "Number of rows: 9659\n",
      "Number of columns: 13\n"
     ]
    }
   ],
   "source": [
    "Play_Store_Dataset_WO_duplicates = []\n",
    "already_added = []\n",
    "for row in Play_Store_Dataset[1:]:\n",
    "    name = row[0]\n",
    "    reviews = int(row[3])\n",
    "    if reviews == reviews_max[name] and name not in already_added:\n",
    "        Play_Store_Dataset_WO_duplicates.append(row)\n",
    "        already_added.append(name)\n",
    "\n",
    "explore_data(Play_Store_Dataset_WO_duplicates, 0, 3, True)"
   ]
  },
  {
   "cell_type": "markdown",
   "id": "6abd67a3",
   "metadata": {},
   "source": [
    "Removing apps with non-english characters:\n",
    "Each character we use in a string has a corresponding number associated with it. For instance, the corresponding number for character 'a' is 97, character 'A' is 65, and character '爱' is 29,233. We can get the corresponding number of each character using the ord() built-in function.\n",
    "The numbers corresponding to the characters we commonly use in an English text are all in the range 0 to 127, according to the ASCII (American Standard Code for Information Interchange) system. Based on this number range, we can build a function that detects whether a character belongs to the set of common English characters or not. If the number is equal to or less than 127, then the character belongs to the set of common English characters."
   ]
  },
  {
   "cell_type": "code",
   "execution_count": 11,
   "id": "d33333a8",
   "metadata": {},
   "outputs": [],
   "source": [
    "def english_string (string):\n",
    "    count = 0\n",
    "    for character in string:    \n",
    "        if ord(character) > 127:\n",
    "            count += 1\n",
    "    if count >= 3:\n",
    "        return False\n",
    "    else:\n",
    "        return True"
   ]
  },
  {
   "cell_type": "code",
   "execution_count": 12,
   "id": "6cbbc010",
   "metadata": {},
   "outputs": [
    {
     "name": "stdout",
     "output_type": "stream",
     "text": [
      "True\n",
      "False\n",
      "True\n",
      "True\n"
     ]
    }
   ],
   "source": [
    "print(english_string('Instagram'))\n",
    "print(english_string('爱奇艺PPS -《欢乐颂2》电视剧热播'))\n",
    "print(english_string('Docs To Go™ Free Office Suite'))\n",
    "print(english_string('Instachat 😜'))"
   ]
  },
  {
   "cell_type": "code",
   "execution_count": 13,
   "id": "21d9f142",
   "metadata": {},
   "outputs": [
    {
     "name": "stdout",
     "output_type": "stream",
     "text": [
      "['Photo Editor & Candy Camera & Grid & ScrapBook', 'ART_AND_DESIGN', '4.1', '159', '19M', '10,000+', 'Free', '0', 'Everyone', 'Art & Design', 'January 7, 2018', '1.0.0', '4.0.3 and up']\n",
      "\n",
      "\n",
      "['U Launcher Lite – FREE Live Cool Themes, Hide Apps', 'ART_AND_DESIGN', '4.7', '87510', '8.7M', '5,000,000+', 'Free', '0', 'Everyone', 'Art & Design', 'August 1, 2018', '1.2.4', '4.0.3 and up']\n",
      "\n",
      "\n",
      "['Sketch - Draw & Paint', 'ART_AND_DESIGN', '4.5', '215644', '25M', '50,000,000+', 'Free', '0', 'Teen', 'Art & Design', 'June 8, 2018', 'Varies with device', '4.2 and up']\n",
      "\n",
      "\n",
      "Number of rows: 9597\n",
      "Number of columns: 13\n"
     ]
    }
   ],
   "source": [
    "Play_Store_Dataset_No_duplicates_and_only_english = []\n",
    "for row in Play_Store_Dataset_WO_duplicates:\n",
    "    name = str(row[0])\n",
    "    if english_string(name) == True:\n",
    "        Play_Store_Dataset_No_duplicates_and_only_english.append(row)\n",
    "\n",
    "explore_data(Play_Store_Dataset_No_duplicates_and_only_english, 0, 3, True)"
   ]
  },
  {
   "cell_type": "code",
   "execution_count": 14,
   "id": "f761fbde",
   "metadata": {},
   "outputs": [
    {
     "name": "stdout",
     "output_type": "stream",
     "text": [
      "['1', '281656475', 'PAC-MAN Premium', '100788224', 'USD', '3.99', '21292', '26', '4', '4.5', '6.3.5', '4+', 'Games', '38', '5', '10', '1']\n",
      "\n",
      "\n",
      "['2', '281796108', 'Evernote - stay organized', '158578688', 'USD', '0', '161065', '26', '4', '3.5', '8.2.2', '4+', 'Productivity', '37', '5', '23', '1']\n",
      "\n",
      "\n",
      "['3', '281940292', 'WeatherBug - Local Weather, Radar, Maps, Alerts', '100524032', 'USD', '0', '188583', '2822', '3.5', '4.5', '5.0.0', '4+', 'Weather', '37', '5', '3', '1']\n",
      "\n",
      "\n",
      "Number of rows: 6155\n",
      "Number of columns: 17\n"
     ]
    }
   ],
   "source": [
    "Apple_Store_Dataset_only_english = []\n",
    "for row in Apple_Store_Dataset[1:]:\n",
    "    name = str(row[2])\n",
    "    if english_string(name) == True:\n",
    "        Apple_Store_Dataset_only_english.append(row)\n",
    "\n",
    "explore_data(Apple_Store_Dataset_only_english, 0, 3, True)"
   ]
  },
  {
   "cell_type": "code",
   "execution_count": 15,
   "id": "04800e7c",
   "metadata": {},
   "outputs": [
    {
     "name": "stdout",
     "output_type": "stream",
     "text": [
      "8848\n",
      "3203\n"
     ]
    }
   ],
   "source": [
    "Play_Store_Final = []\n",
    "Apple_Store_Final = []\n",
    "\n",
    "for row in Play_Store_Dataset_No_duplicates_and_only_english:\n",
    "    price = row[7]\n",
    "    if price == '0':\n",
    "        Play_Store_Final.append(row)\n",
    "for row in Apple_Store_Dataset_only_english:\n",
    "    price = row[5]\n",
    "    if price == '0':\n",
    "        Apple_Store_Final.append(row)\n",
    "        \n",
    "print(len(Play_Store_Final))\n",
    "print(len(Apple_Store_Final))"
   ]
  },
  {
   "cell_type": "markdown",
   "id": "ab37c133",
   "metadata": {},
   "source": [
    "## Analysis\n",
    "The goal is to determine the kinds of apps that are likely to attract more users because the number of people using our apps affect our revenue.\n",
    "\n",
    "To minimize risks and overhead, our validation strategy for an app idea has three steps:\n",
    "\n",
    "Build a minimal Android version of the app, and add it to Google Play.\n",
    "If the app has a good response from users, we develop it further.\n",
    "If the app is profitable after six months, we build an iOS version of the app and add it to the App Store.\n",
    "Because our end goal is to add the app on both Google Play and the App Store, we need to find app profiles that are successful in both markets. For instance, a profile that works well for both markets might be a productivity app that makes use of gamification."
   ]
  },
  {
   "cell_type": "code",
   "execution_count": 16,
   "id": "320e967e",
   "metadata": {},
   "outputs": [
    {
     "name": "stdout",
     "output_type": "stream",
     "text": [
      "Games : 58.25788323446769\n",
      "Entertainment : 7.836403371838902\n",
      "Photo & Video : 4.995316890415236\n",
      "Education : 3.6840462066812365\n",
      "Social Networking : 3.3093974399000934\n",
      "Shopping : 2.5913206369029034\n",
      "Utilities : 2.466437714642523\n",
      "Sports : 2.1542304089915705\n",
      "Music : 2.0605682172962845\n",
      "Health & Fitness : 2.0293474867311896\n",
      "Productivity : 1.7483609116453322\n",
      "Lifestyle : 1.5610365282547611\n",
      "News : 1.3424914142990947\n",
      "Travel : 1.248829222603809\n",
      "Finance : 1.0927255697783327\n",
      "Weather : 0.8741804558226661\n",
      "Food & Drink : 0.8117389946924758\n",
      "Reference : 0.5307524196066188\n",
      "Business : 0.5307524196066188\n",
      "Book : 0.3746487667811427\n",
      "Navigation : 0.18732438339057134\n",
      "Medical : 0.18732438339057134\n",
      "Catalogs : 0.1248829222603809\n",
      "\n",
      "---------------------------\n",
      "\n",
      "FAMILY : 18.942133815551536\n",
      "GAME : 9.697106690777577\n",
      "TOOLS : 8.453887884267631\n",
      "BUSINESS : 4.599909584086799\n",
      "PRODUCTIVITY : 3.899186256781193\n",
      "LIFESTYLE : 3.887884267631103\n",
      "FINANCE : 3.7070524412296564\n",
      "MEDICAL : 3.5375226039783\n",
      "SPORTS : 3.390596745027125\n",
      "PERSONALIZATION : 3.322784810126582\n",
      "COMMUNICATION : 3.2323688969258586\n",
      "HEALTH_AND_FITNESS : 3.0854430379746836\n",
      "PHOTOGRAPHY : 2.949819168173599\n",
      "NEWS_AND_MAGAZINES : 2.802893309222423\n",
      "SOCIAL : 2.667269439421338\n",
      "TRAVEL_AND_LOCAL : 2.3395117540687163\n",
      "SHOPPING : 2.2490958408679926\n",
      "BOOKS_AND_REFERENCE : 2.1360759493670884\n",
      "DATING : 1.8648282097649187\n",
      "VIDEO_PLAYERS : 1.7970162748643763\n",
      "MAPS_AND_NAVIGATION : 1.3901446654611211\n",
      "FOOD_AND_DRINK : 1.2432188065099457\n",
      "EDUCATION : 1.164104882459313\n",
      "ENTERTAINMENT : 0.9606690777576853\n",
      "LIBRARIES_AND_DEMO : 0.9380650994575045\n",
      "AUTO_AND_VEHICLES : 0.9267631103074141\n",
      "HOUSE_AND_HOME : 0.8024412296564195\n",
      "WEATHER : 0.7911392405063291\n",
      "EVENTS : 0.7120253164556962\n",
      "PARENTING : 0.6555153707052441\n",
      "ART_AND_DESIGN : 0.6442133815551537\n",
      "COMICS : 0.6103074141048824\n",
      "BEAUTY : 0.599005424954792\n",
      "\n",
      "---------------------------\n",
      "\n",
      "Tools : 8.44258589511754\n",
      "Entertainment : 6.080470162748644\n",
      "Education : 5.357142857142857\n",
      "Business : 4.599909584086799\n",
      "Productivity : 3.899186256781193\n",
      "Lifestyle : 3.8765822784810124\n",
      "Finance : 3.7070524412296564\n",
      "Medical : 3.5375226039783\n",
      "Sports : 3.4584086799276674\n",
      "Personalization : 3.322784810126582\n",
      "Communication : 3.2323688969258586\n",
      "Action : 3.096745027124774\n",
      "Health & Fitness : 3.0854430379746836\n",
      "Photography : 2.949819168173599\n",
      "News & Magazines : 2.802893309222423\n",
      "Social : 2.667269439421338\n",
      "Travel & Local : 2.328209764918626\n",
      "Shopping : 2.2490958408679926\n",
      "Books & Reference : 2.1360759493670884\n",
      "Simulation : 2.0456600361663653\n",
      "Dating : 1.8648282097649187\n",
      "Arcade : 1.842224231464738\n",
      "Video Players & Editors : 1.7744122965641953\n",
      "Casual : 1.763110307414105\n",
      "Maps & Navigation : 1.3901446654611211\n",
      "Food & Drink : 1.2432188065099457\n",
      "Puzzle : 1.1301989150090417\n",
      "Racing : 0.9945750452079566\n",
      "Role Playing : 0.9380650994575045\n",
      "Libraries & Demo : 0.9380650994575045\n",
      "Auto & Vehicles : 0.9267631103074141\n",
      "Strategy : 0.9154611211573236\n",
      "House & Home : 0.8024412296564195\n",
      "Weather : 0.7911392405063291\n",
      "Events : 0.7120253164556962\n",
      "Adventure : 0.6668173598553345\n",
      "Comics : 0.599005424954792\n",
      "Beauty : 0.599005424954792\n",
      "Art & Design : 0.599005424954792\n",
      "Parenting : 0.4972875226039783\n",
      "Card : 0.45207956600361665\n",
      "Trivia : 0.4181735985533454\n",
      "Casino : 0.4181735985533454\n",
      "Educational;Education : 0.39556962025316456\n",
      "Board : 0.3842676311030741\n",
      "Educational : 0.3729656419529837\n",
      "Education;Education : 0.33905967450271246\n",
      "Word : 0.25994575045207957\n",
      "Casual;Pretend Play : 0.23734177215189875\n",
      "Music : 0.2034358047016275\n",
      "Racing;Action & Adventure : 0.16952983725135623\n",
      "Puzzle;Brain Games : 0.16952983725135623\n",
      "Entertainment;Music & Video : 0.16952983725135623\n",
      "Casual;Brain Games : 0.13562386980108498\n",
      "Casual;Action & Adventure : 0.13562386980108498\n",
      "Arcade;Action & Adventure : 0.12432188065099457\n",
      "Action;Action & Adventure : 0.10171790235081375\n",
      "Educational;Pretend Play : 0.09041591320072333\n",
      "Simulation;Action & Adventure : 0.07911392405063292\n",
      "Parenting;Education : 0.07911392405063292\n",
      "Entertainment;Brain Games : 0.07911392405063292\n",
      "Board;Brain Games : 0.07911392405063292\n",
      "Parenting;Music & Video : 0.06781193490054249\n",
      "Educational;Brain Games : 0.06781193490054249\n",
      "Casual;Creativity : 0.06781193490054249\n",
      "Art & Design;Creativity : 0.06781193490054249\n",
      "Education;Pretend Play : 0.05650994575045208\n",
      "Role Playing;Pretend Play : 0.045207956600361664\n",
      "Education;Creativity : 0.045207956600361664\n",
      "Role Playing;Action & Adventure : 0.033905967450271246\n",
      "Puzzle;Action & Adventure : 0.033905967450271246\n",
      "Entertainment;Creativity : 0.033905967450271246\n",
      "Entertainment;Action & Adventure : 0.033905967450271246\n",
      "Educational;Creativity : 0.033905967450271246\n",
      "Educational;Action & Adventure : 0.033905967450271246\n",
      "Education;Music & Video : 0.033905967450271246\n",
      "Education;Brain Games : 0.033905967450271246\n",
      "Education;Action & Adventure : 0.033905967450271246\n",
      "Adventure;Action & Adventure : 0.033905967450271246\n",
      "Video Players & Editors;Music & Video : 0.022603978300180832\n",
      "Sports;Action & Adventure : 0.022603978300180832\n",
      "Simulation;Pretend Play : 0.022603978300180832\n",
      "Puzzle;Creativity : 0.022603978300180832\n",
      "Music;Music & Video : 0.022603978300180832\n",
      "Entertainment;Pretend Play : 0.022603978300180832\n",
      "Casual;Education : 0.022603978300180832\n",
      "Board;Action & Adventure : 0.022603978300180832\n",
      "Video Players & Editors;Creativity : 0.011301989150090416\n",
      "Trivia;Education : 0.011301989150090416\n",
      "Travel & Local;Action & Adventure : 0.011301989150090416\n",
      "Tools;Education : 0.011301989150090416\n",
      "Strategy;Education : 0.011301989150090416\n",
      "Strategy;Creativity : 0.011301989150090416\n",
      "Strategy;Action & Adventure : 0.011301989150090416\n",
      "Simulation;Education : 0.011301989150090416\n",
      "Role Playing;Brain Games : 0.011301989150090416\n",
      "Racing;Pretend Play : 0.011301989150090416\n",
      "Puzzle;Education : 0.011301989150090416\n",
      "Parenting;Brain Games : 0.011301989150090416\n",
      "Music & Audio;Music & Video : 0.011301989150090416\n",
      "Lifestyle;Pretend Play : 0.011301989150090416\n",
      "Lifestyle;Education : 0.011301989150090416\n",
      "Health & Fitness;Education : 0.011301989150090416\n",
      "Health & Fitness;Action & Adventure : 0.011301989150090416\n",
      "Entertainment;Education : 0.011301989150090416\n",
      "Communication;Creativity : 0.011301989150090416\n",
      "Comics;Creativity : 0.011301989150090416\n",
      "Casual;Music & Video : 0.011301989150090416\n",
      "Card;Action & Adventure : 0.011301989150090416\n",
      "Books & Reference;Education : 0.011301989150090416\n",
      "Art & Design;Pretend Play : 0.011301989150090416\n",
      "Art & Design;Action & Adventure : 0.011301989150090416\n",
      "Arcade;Pretend Play : 0.011301989150090416\n",
      "Adventure;Education : 0.011301989150090416\n"
     ]
    }
   ],
   "source": [
    "def freq_table(dataset, index):\n",
    "    table = {}\n",
    "    total = 0\n",
    "    for row in dataset:\n",
    "        total += 1\n",
    "        column = row[index]\n",
    "        if column in table:\n",
    "            table[column] += 1\n",
    "        else:\n",
    "            table[column] = 1\n",
    "    \n",
    "    table_percentages = {}\n",
    "    for key in table:\n",
    "        percentage = (table[key] / total) * 100\n",
    "        table_percentages[key] = percentage \n",
    "    \n",
    "    return table_percentages\n",
    "\n",
    "\n",
    "def display_table(dataset, index):\n",
    "    table = freq_table(dataset, index)\n",
    "    table_display = []\n",
    "    for key in table:\n",
    "        key_val_as_tuple = (table[key], key)\n",
    "        table_display.append(key_val_as_tuple)\n",
    "\n",
    "    table_sorted = sorted(table_display, reverse = True)\n",
    "    for entry in table_sorted:\n",
    "        print(entry[1], ':', entry[0])\n",
    "        \n",
    "        \n",
    "display_table(Apple_Store_Final, 12)\n",
    "print('\\n---------------------------\\n')\n",
    "display_table(Play_Store_Final, 1)\n",
    "print('\\n---------------------------\\n')\n",
    "display_table(Play_Store_Final, 9)"
   ]
  },
  {
   "cell_type": "code",
   "execution_count": 17,
   "id": "100421b9",
   "metadata": {
    "scrolled": true
   },
   "outputs": [
    {
     "name": "stdout",
     "output_type": "stream",
     "text": [
      "Productivity 21028.410714285714\n",
      "Weather 52279.892857142855\n",
      "Shopping 27230.734939759037\n",
      "Reference 79350.4705882353\n",
      "Finance 32367.02857142857\n",
      "Music 57326.530303030304\n",
      "Utilities 19156.493670886077\n",
      "Travel 28243.8\n",
      "Social Networking 71548.34905660378\n",
      "Sports 23008.898550724636\n",
      "Health & Fitness 23298.015384615384\n",
      "Games 22886.36709539121\n",
      "Food & Drink 33333.92307692308\n",
      "News 21248.023255813954\n",
      "Book 46384.916666666664\n",
      "Photo & Video 28441.54375\n",
      "Entertainment 14195.358565737051\n",
      "Business 7491.117647058823\n",
      "Lifestyle 16815.48\n",
      "Education 7003.983050847458\n",
      "Navigation 86090.33333333333\n",
      "Medical 612.0\n",
      "Catalogs 4004.0\n"
     ]
    }
   ],
   "source": [
    "playstore_genre_freq = freq_table(Apple_Store_Final, 12)\n",
    "for genre in playstore_genre_freq:\n",
    "    total = 0\n",
    "    len_genre = 0\n",
    "    for row in Apple_Store_Final:\n",
    "        genre_app = row[12]\n",
    "        if genre_app == genre:\n",
    "            no_of_user_ratings = float(row[6])\n",
    "            total += no_of_user_ratings\n",
    "            len_genre += 1\n",
    "    avg_no_user_ratings = total / len_genre\n",
    "    print(genre, avg_no_user_ratings)"
   ]
  },
  {
   "cell_type": "code",
   "execution_count": 18,
   "id": "108bdf49",
   "metadata": {},
   "outputs": [
    {
     "name": "stdout",
     "output_type": "stream",
     "text": [
      "Waze - GPS Navigation, Maps & Real-time Traffic : 345046\n",
      "Geocaching® : 12811\n",
      "ImmobilienScout24: Real Estate Search in Germany : 187\n",
      "Railway Route Search : 5\n",
      "CoPilot GPS – Car Navigation & Offline Maps : 3582\n",
      "Google Maps - Navigation & Transit : 154911\n"
     ]
    }
   ],
   "source": [
    "for row in Apple_Store_Final:\n",
    "    if row[-5] == 'Navigation':\n",
    "        print(row[2], ':', row[6]) # print name and number of ratings"
   ]
  },
  {
   "cell_type": "code",
   "execution_count": 19,
   "id": "25c16fc1",
   "metadata": {},
   "outputs": [
    {
     "name": "stdout",
     "output_type": "stream",
     "text": [
      "1,000,000+ : 15.75497287522604\n",
      "100,000+ : 11.539330922242314\n",
      "10,000,000+ : 10.567359855334539\n",
      "10,000+ : 10.194394213381555\n",
      "1,000+ : 8.39737793851718\n",
      "100+ : 6.928119349005425\n",
      "5,000,000+ : 6.826401446654612\n",
      "500,000+ : 5.560578661844485\n",
      "50,000+ : 4.769439421338156\n",
      "5,000+ : 4.486889692585895\n",
      "10+ : 3.5375226039783\n",
      "500+ : 3.2436708860759493\n",
      "50,000,000+ : 2.2830018083182644\n",
      "100,000,000+ : 2.1360759493670884\n",
      "50+ : 1.9213381555153706\n",
      "5+ : 0.7911392405063291\n",
      "1+ : 0.5085895117540687\n",
      "500,000,000+ : 0.27124773960216997\n",
      "1,000,000,000+ : 0.22603978300180833\n",
      "0+ : 0.045207956600361664\n",
      "0 : 0.011301989150090416\n"
     ]
    }
   ],
   "source": [
    "display_table(Play_Store_Final, 5) # the Installs columns"
   ]
  },
  {
   "cell_type": "code",
   "execution_count": 20,
   "id": "1d69e350",
   "metadata": {},
   "outputs": [
    {
     "name": "stdout",
     "output_type": "stream",
     "text": [
      "ART_AND_DESIGN : 1986335.0877192982\n",
      "AUTO_AND_VEHICLES : 647317.8170731707\n",
      "BEAUTY : 513151.88679245283\n",
      "BOOKS_AND_REFERENCE : 8814199.78835979\n",
      "BUSINESS : 1712290.1474201474\n",
      "COMICS : 832613.8888888889\n",
      "COMMUNICATION : 38590581.08741259\n",
      "DATING : 854028.8303030303\n",
      "EDUCATION : 1833495.145631068\n",
      "ENTERTAINMENT : 11640705.88235294\n",
      "EVENTS : 253542.22222222222\n",
      "FINANCE : 1387692.475609756\n",
      "FOOD_AND_DRINK : 1924897.7363636363\n",
      "HEALTH_AND_FITNESS : 4188821.9853479853\n",
      "HOUSE_AND_HOME : 1360598.042253521\n",
      "LIBRARIES_AND_DEMO : 638503.734939759\n",
      "LIFESTYLE : 1446158.2238372094\n",
      "GAME : 15544014.51048951\n",
      "FAMILY : 3695641.8198090694\n",
      "MEDICAL : 120550.61980830671\n",
      "SOCIAL : 23253652.127118643\n",
      "SHOPPING : 7036877.311557789\n",
      "PHOTOGRAPHY : 17840110.40229885\n",
      "SPORTS : 3650602.276666667\n",
      "TRAVEL_AND_LOCAL : 13984077.710144928\n",
      "TOOLS : 10830251.970588235\n",
      "PERSONALIZATION : 5201482.6122448975\n",
      "PRODUCTIVITY : 16787331.344927534\n",
      "PARENTING : 542603.6206896552\n",
      "WEATHER : 5145550.285714285\n",
      "VIDEO_PLAYERS : 24727872.452830188\n",
      "NEWS_AND_MAGAZINES : 9549178.467741935\n",
      "MAPS_AND_NAVIGATION : 4049274.6341463416\n"
     ]
    }
   ],
   "source": [
    "categories_android = freq_table(Play_Store_Final, 1)\n",
    "\n",
    "for category in categories_android:\n",
    "    total = 0\n",
    "    len_category = 0\n",
    "    for row in Play_Store_Final:\n",
    "        category_app = row[1]\n",
    "        if category_app == category:            \n",
    "            n_installs = row[5]\n",
    "            n_installs = n_installs.replace(',', '')\n",
    "            n_installs = n_installs.replace('+', '')\n",
    "            total += float(n_installs)\n",
    "            len_category += 1\n",
    "    avg_n_installs = total / len_category\n",
    "    print(category, ':', avg_n_installs)"
   ]
  },
  {
   "cell_type": "markdown",
   "id": "bb79e662",
   "metadata": {},
   "source": [
    "On average, communication apps have the most installs: 38,590,581. This number is heavily skewed up by a few apps that have over one billion installs (WhatsApp, Facebook Messenger, Skype, Google Chrome, Gmail, and Hangouts), and a few others with over 100 and 500 million installs"
   ]
  },
  {
   "cell_type": "code",
   "execution_count": 21,
   "id": "a4ccc66d",
   "metadata": {},
   "outputs": [
    {
     "name": "stdout",
     "output_type": "stream",
     "text": [
      "WhatsApp Messenger : 1,000,000,000+\n",
      "imo beta free calls and text : 100,000,000+\n",
      "Android Messages : 100,000,000+\n",
      "Google Duo - High Quality Video Calls : 500,000,000+\n",
      "Messenger – Text and Video Chat for Free : 1,000,000,000+\n",
      "imo free video calls and chat : 500,000,000+\n",
      "Skype - free IM & video calls : 1,000,000,000+\n",
      "Who : 100,000,000+\n",
      "GO SMS Pro - Messenger, Free Themes, Emoji : 100,000,000+\n",
      "LINE: Free Calls & Messages : 500,000,000+\n",
      "Google Chrome: Fast & Secure : 1,000,000,000+\n",
      "Firefox Browser fast & private : 100,000,000+\n",
      "UC Browser - Fast Download Private & Secure : 500,000,000+\n",
      "Gmail : 1,000,000,000+\n",
      "Hangouts : 1,000,000,000+\n",
      "Messenger Lite: Free Calls & Messages : 100,000,000+\n",
      "Kik : 100,000,000+\n",
      "KakaoTalk: Free Calls & Text : 100,000,000+\n",
      "Opera Mini - fast web browser : 100,000,000+\n",
      "Opera Browser: Fast and Secure : 100,000,000+\n",
      "Telegram : 100,000,000+\n",
      "Truecaller: Caller ID, SMS spam blocking & Dialer : 100,000,000+\n",
      "UC Browser Mini -Tiny Fast Private & Secure : 100,000,000+\n",
      "Viber Messenger : 500,000,000+\n",
      "WeChat : 100,000,000+\n",
      "Yahoo Mail – Stay Organized : 100,000,000+\n",
      "BBM - Free Calls & Messages : 100,000,000+\n"
     ]
    }
   ],
   "source": [
    "for app in Play_Store_Final:\n",
    "    if app[1] == 'COMMUNICATION' and (app[5] == '1,000,000,000+'\n",
    "                                      or app[5] == '500,000,000+'\n",
    "                                      or app[5] == '100,000,000+'):\n",
    "        print(app[0], ':', app[5])"
   ]
  },
  {
   "cell_type": "markdown",
   "id": "bbd26dc0",
   "metadata": {},
   "source": [
    "If we removed all the communication apps that have over 100 million installs, the average would be reduced roughly ten times"
   ]
  },
  {
   "cell_type": "code",
   "execution_count": 22,
   "id": "86397a6e",
   "metadata": {},
   "outputs": [
    {
     "data": {
      "text/plain": [
       "3617398.420849421"
      ]
     },
     "execution_count": 22,
     "metadata": {},
     "output_type": "execute_result"
    }
   ],
   "source": [
    "under_100_m = []\n",
    "\n",
    "for row in Play_Store_Final:\n",
    "    n_installs = row[5]\n",
    "    n_installs = n_installs.replace(',', '')\n",
    "    n_installs = n_installs.replace('+', '')\n",
    "    if (row[1] == 'COMMUNICATION') and (float(n_installs) < 100000000):\n",
    "        under_100_m.append(float(n_installs))\n",
    "        \n",
    "sum(under_100_m) / len(under_100_m)"
   ]
  },
  {
   "cell_type": "markdown",
   "id": "0b0ebd80",
   "metadata": {},
   "source": [
    "We see the same pattern for the video players category, which is the runner-up with 24,727,872 installs. The market is dominated by apps like Youtube, Google Play Movies & TV, or MX Player. The pattern is repeated for social apps (where we have giants like Facebook, Instagram, Google+, etc.), photography apps (Google Photos and other popular photo editors), or productivity apps (Microsoft Word, Dropbox, Google Calendar, Evernote, etc.).\n",
    "\n",
    "Again, the main concern is that these app genres might seem more popular than they really are. Moreover, these niches seem to be dominated by a few giants who are hard to compete against.\n",
    "\n",
    "The game genre seems pretty popular, but previously we found out this part of the market seems a bit saturated, so we'd like to come up with a different app recommendation if possible.\n",
    "\n",
    "The books and reference genre looks fairly popular as well, with an average number of installs of 8,767,811. It's interesting to explore this in more depth, since we found this genre has some potential to work well on the App Store, and our aim is to recommend an app genre that shows potential for being profitable on both the App Store and Google Play.\n",
    "\n",
    "Let's take a look at some of the apps from this genre and their number of installs:"
   ]
  },
  {
   "cell_type": "code",
   "execution_count": 23,
   "id": "3fb76720",
   "metadata": {},
   "outputs": [
    {
     "name": "stdout",
     "output_type": "stream",
     "text": [
      "E-Book Read - Read Book for free : 50,000+\n",
      "Download free book with green book : 100,000+\n",
      "Wikipedia : 10,000,000+\n",
      "Cool Reader : 10,000,000+\n",
      "Free Panda Radio Music : 100,000+\n",
      "Book store : 1,000,000+\n",
      "FBReader: Favorite Book Reader : 10,000,000+\n",
      "English Grammar Complete Handbook : 500,000+\n",
      "Free Books - Spirit Fanfiction and Stories : 1,000,000+\n",
      "Google Play Books : 1,000,000,000+\n",
      "AlReader -any text book reader : 5,000,000+\n",
      "Offline English Dictionary : 100,000+\n",
      "Offline: English to Tagalog Dictionary : 500,000+\n",
      "FamilySearch Tree : 1,000,000+\n",
      "Cloud of Books : 1,000,000+\n",
      "Recipes of Prophetic Medicine for free : 500,000+\n",
      "ReadEra – free ebook reader : 1,000,000+\n",
      "Anonymous caller detection : 10,000+\n",
      "Ebook Reader : 5,000,000+\n",
      "Litnet - E-books : 100,000+\n",
      "Read books online : 5,000,000+\n",
      "English to Urdu Dictionary : 500,000+\n",
      "eBoox: book reader fb2 epub zip : 1,000,000+\n",
      "English Persian Dictionary : 500,000+\n",
      "Flybook : 500,000+\n",
      "All Maths Formulas : 1,000,000+\n",
      "Ancestry : 5,000,000+\n",
      "HTC Help : 10,000,000+\n",
      "English translation from Bengali : 100,000+\n",
      "Pdf Book Download - Read Pdf Book : 100,000+\n",
      "Free Book Reader : 100,000+\n",
      "eBoox new: Reader for fb2 epub zip books : 50,000+\n",
      "Only 30 days in English, the guideline is guaranteed : 500,000+\n",
      "Moon+ Reader : 10,000,000+\n",
      "SH-02J Owner's Manual (Android 8.0) : 50,000+\n",
      "English-Myanmar Dictionary : 1,000,000+\n",
      "Golden Dictionary (EN-AR) : 1,000,000+\n",
      "All Language Translator Free : 1,000,000+\n",
      "Azpen eReader : 500,000+\n",
      "URBANO V 02 instruction manual : 100,000+\n",
      "Bible : 100,000,000+\n",
      "C Programs and Reference : 50,000+\n",
      "C Offline Tutorial : 1,000+\n",
      "C Programs Handbook : 50,000+\n",
      "Amazon Kindle : 100,000,000+\n",
      "Aab e Hayat Full Novel : 100,000+\n",
      "Aldiko Book Reader : 10,000,000+\n",
      "Google I/O 2018 : 500,000+\n",
      "R Language Reference Guide : 10,000+\n",
      "Learn R Programming Full : 5,000+\n",
      "R Programing Offline Tutorial : 1,000+\n",
      "Guide for R Programming : 5+\n",
      "Learn R Programming : 10+\n",
      "R Quick Reference Big Data : 1,000+\n",
      "V Made : 100,000+\n",
      "Wattpad 📖 Free Books : 100,000,000+\n",
      "Dictionary - WordWeb : 5,000,000+\n",
      "Guide (for X-MEN) : 100,000+\n",
      "AC Air condition Troubleshoot,Repair,Maintenance : 5,000+\n",
      "AE Bulletins : 1,000+\n",
      "Ae Allah na Dai (Rasa) : 10,000+\n",
      "50000 Free eBooks & Free AudioBooks : 5,000,000+\n",
      "Ag PhD Field Guide : 10,000+\n",
      "Ag PhD Deficiencies : 10,000+\n",
      "Ag PhD Planting Population Calculator : 1,000+\n",
      "Ag PhD Soybean Diseases : 1,000+\n",
      "Fertilizer Removal By Crop : 50,000+\n",
      "A-J Media Vault : 50+\n",
      "Al-Quran (Free) : 10,000,000+\n",
      "Al Quran (Tafsir & by Word) : 500,000+\n",
      "Al Quran Indonesia : 10,000,000+\n",
      "Al'Quran Bahasa Indonesia : 10,000,000+\n",
      "Al Quran Al karim : 1,000,000+\n",
      "Al-Muhaffiz : 50,000+\n",
      "Al Quran : EAlim - Translations & MP3 Offline : 5,000,000+\n",
      "Al-Quran 30 Juz free copies : 500,000+\n",
      "Koran Read &MP3 30 Juz Offline : 1,000,000+\n",
      "Hafizi Quran 15 lines per page : 1,000,000+\n",
      "Quran for Android : 10,000,000+\n",
      "Surah Al-Waqiah : 100,000+\n",
      "Hisnul Al Muslim - Hisn Invocations & Adhkaar : 100,000+\n",
      "Satellite AR : 1,000,000+\n",
      "Audiobooks from Audible : 100,000,000+\n",
      "Kinot & Eichah for Tisha B'Av : 10,000+\n",
      "AW Tozer Devotionals - Daily : 5,000+\n",
      "Tozer Devotional -Series 1 : 1,000+\n",
      "The Pursuit of God : 1,000+\n",
      "AY Sing : 5,000+\n",
      "Ay Hasnain k Nana Milad Naat : 10,000+\n",
      "Ay Mohabbat Teri Khatir Novel : 10,000+\n",
      "Arizona Statutes, ARS (AZ Law) : 1,000+\n",
      "Oxford A-Z of English Usage : 1,000,000+\n",
      "BD Fishpedia : 1,000+\n",
      "BD All Sim Offer : 10,000+\n",
      "Youboox - Livres, BD et magazines : 500,000+\n",
      "B&H Kids AR : 10,000+\n",
      "B y H Niños ES : 5,000+\n",
      "Dictionary.com: Find Definitions for English Words : 10,000,000+\n",
      "English Dictionary - Offline : 10,000,000+\n",
      "Bible KJV : 5,000,000+\n",
      "Borneo Bible, BM Bible : 10,000+\n",
      "MOD Black for BM : 100+\n",
      "BM Box : 1,000+\n",
      "Anime Mod for BM : 100+\n",
      "NOOK: Read eBooks & Magazines : 10,000,000+\n",
      "NOOK Audiobooks : 500,000+\n",
      "NOOK App for NOOK Devices : 500,000+\n",
      "Browsery by Barnes & Noble : 5,000+\n",
      "bp e-store : 1,000+\n",
      "Brilliant Quotes: Life, Love, Family & Motivation : 1,000,000+\n",
      "BR Ambedkar Biography & Quotes : 10,000+\n",
      "BU Alsace : 100+\n",
      "Catholic La Bu Zo Kam : 500+\n",
      "Khrifa Hla Bu (Solfa) : 10+\n",
      "Kristian Hla Bu : 10,000+\n",
      "SA HLA BU : 1,000+\n",
      "Learn SAP BW : 500+\n",
      "Learn SAP BW on HANA : 500+\n",
      "CA Laws 2018 (California Laws and Codes) : 5,000+\n",
      "Bootable Methods(USB-CD-DVD) : 10,000+\n",
      "cloudLibrary : 100,000+\n",
      "SDA Collegiate Quarterly : 500+\n",
      "Sabbath School : 100,000+\n",
      "Cypress College Library : 100+\n",
      "Stats Royale for Clash Royale : 1,000,000+\n",
      "GATE 21 years CS Papers(2011-2018 Solved) : 50+\n",
      "Learn CT Scan Of Head : 5,000+\n",
      "Easy Cv maker 2018 : 10,000+\n",
      "How to Write CV : 100,000+\n",
      "CW Nuclear : 1,000+\n",
      "CY Spray nozzle : 10+\n",
      "BibleRead En Cy Zh Yue : 5+\n",
      "CZ-Help : 5+\n",
      "Guide for DB Xenoverse : 10,000+\n",
      "Guide for DB Xenoverse 2 : 10,000+\n",
      "Guide for IMS DB : 10+\n",
      "DC HSEMA : 5,000+\n",
      "DC Public Library : 1,000+\n",
      "Painting Lulu DC Super Friends : 1,000+\n",
      "Dictionary : 10,000,000+\n",
      "Fix Error Google Playstore : 1,000+\n",
      "D. H. Lawrence Poems FREE : 1,000+\n",
      "Bilingual Dictionary Audio App : 5,000+\n",
      "DM Screen : 10,000+\n",
      "wikiHow: how to do anything : 1,000,000+\n",
      "Dr. Doug's Tips : 1,000+\n",
      "Bible du Semeur-BDS (French) : 50,000+\n",
      "La citadelle du musulman : 50,000+\n",
      "DV 2019 Entry Guide : 10,000+\n",
      "DV 2019 - EDV Photo & Form : 50,000+\n",
      "DV 2018 Winners Guide : 1,000+\n",
      "EB Annual Meetings : 1,000+\n",
      "EC - AP & Telangana : 5,000+\n",
      "TN Patta Citta & EC : 10,000+\n",
      "AP Stamps and Registration : 10,000+\n",
      "CompactiMa EC pH Calibration : 100+\n",
      "EGW Writings 2 : 100,000+\n",
      "EGW Writings : 1,000,000+\n",
      "Bible with EGW Comments : 100,000+\n",
      "My Little Pony AR Guide : 1,000,000+\n",
      "SDA Sabbath School Quarterly : 500,000+\n",
      "Duaa Ek Ibaadat : 5,000+\n",
      "Spanish English Translator : 10,000,000+\n",
      "Dictionary - Merriam-Webster : 10,000,000+\n",
      "JW Library : 10,000,000+\n",
      "Oxford Dictionary of English : Free : 10,000,000+\n",
      "English Hindi Dictionary : 10,000,000+\n",
      "English to Hindi Dictionary : 5,000,000+\n",
      "EP Research Service : 1,000+\n",
      "Hymnes et Louanges : 100,000+\n",
      "EU Charter : 1,000+\n",
      "EU Data Protection : 1,000+\n",
      "EU IP Codes : 100+\n",
      "EW PDF : 5+\n",
      "BakaReader EX : 100,000+\n",
      "EZ Quran : 50,000+\n",
      "FA Part 1 & 2 Past Papers Solved Free – Offline : 5,000+\n",
      "La Fe de Jesus : 1,000+\n",
      "La Fe de Jesús : 500+\n",
      "Le Fe de Jesus : 500+\n",
      "Florida - Pocket Brainbook : 1,000+\n",
      "Florida Statutes (FL Code) : 1,000+\n",
      "English To Shona Dictionary : 10,000+\n",
      "Greek Bible FP (Audio) : 1,000+\n",
      "Golden Dictionary (FR-AR) : 500,000+\n",
      "Fanfic-FR : 5,000+\n",
      "Bulgarian French Dictionary Fr : 10,000+\n",
      "Chemin (fr) : 1,000+\n",
      "The SCP Foundation DB fr nn5n : 1,000+\n"
     ]
    }
   ],
   "source": [
    "for row in Play_Store_Final:\n",
    "    if row[1] == 'BOOKS_AND_REFERENCE':\n",
    "        print(row[0], ':', row[5])"
   ]
  },
  {
   "cell_type": "markdown",
   "id": "f2f6eb6b",
   "metadata": {},
   "source": [
    "The book and reference genre includes a variety of apps: software for processing and reading ebooks, various collections of libraries, dictionaries, tutorials on programming or languages, etc. It seems there's still a small number of extremely popular apps that skew the average:"
   ]
  },
  {
   "cell_type": "code",
   "execution_count": 24,
   "id": "da8371d5",
   "metadata": {},
   "outputs": [
    {
     "name": "stdout",
     "output_type": "stream",
     "text": [
      "Google Play Books : 1,000,000,000+\n",
      "Bible : 100,000,000+\n",
      "Amazon Kindle : 100,000,000+\n",
      "Wattpad 📖 Free Books : 100,000,000+\n",
      "Audiobooks from Audible : 100,000,000+\n"
     ]
    }
   ],
   "source": [
    "for row in Play_Store_Final:\n",
    "    if row[1] == 'BOOKS_AND_REFERENCE' and (row[5] == '1,000,000,000+'\n",
    "                                            or row[5] == '500,000,000+'\n",
    "                                            or row[5] == '100,000,000+'):\n",
    "        print(row[0], ':', row[5])"
   ]
  },
  {
   "cell_type": "markdown",
   "id": "d886d8b7",
   "metadata": {},
   "source": [
    "However, it looks like there are only a few very popular apps, so this market still shows potential. Let's try to get some app ideas based on the kind of apps that are somewhere in the middle in terms of popularity (between 1,000,000 and 100,000,000 downloads):"
   ]
  },
  {
   "cell_type": "code",
   "execution_count": 25,
   "id": "be4169b1",
   "metadata": {},
   "outputs": [
    {
     "name": "stdout",
     "output_type": "stream",
     "text": [
      "Wikipedia : 10,000,000+\n",
      "Cool Reader : 10,000,000+\n",
      "Book store : 1,000,000+\n",
      "FBReader: Favorite Book Reader : 10,000,000+\n",
      "Free Books - Spirit Fanfiction and Stories : 1,000,000+\n",
      "AlReader -any text book reader : 5,000,000+\n",
      "FamilySearch Tree : 1,000,000+\n",
      "Cloud of Books : 1,000,000+\n",
      "ReadEra – free ebook reader : 1,000,000+\n",
      "Ebook Reader : 5,000,000+\n",
      "Read books online : 5,000,000+\n",
      "eBoox: book reader fb2 epub zip : 1,000,000+\n",
      "All Maths Formulas : 1,000,000+\n",
      "Ancestry : 5,000,000+\n",
      "HTC Help : 10,000,000+\n",
      "Moon+ Reader : 10,000,000+\n",
      "English-Myanmar Dictionary : 1,000,000+\n",
      "Golden Dictionary (EN-AR) : 1,000,000+\n",
      "All Language Translator Free : 1,000,000+\n",
      "Aldiko Book Reader : 10,000,000+\n",
      "Dictionary - WordWeb : 5,000,000+\n",
      "50000 Free eBooks & Free AudioBooks : 5,000,000+\n",
      "Al-Quran (Free) : 10,000,000+\n",
      "Al Quran Indonesia : 10,000,000+\n",
      "Al'Quran Bahasa Indonesia : 10,000,000+\n",
      "Al Quran Al karim : 1,000,000+\n",
      "Al Quran : EAlim - Translations & MP3 Offline : 5,000,000+\n",
      "Koran Read &MP3 30 Juz Offline : 1,000,000+\n",
      "Hafizi Quran 15 lines per page : 1,000,000+\n",
      "Quran for Android : 10,000,000+\n",
      "Satellite AR : 1,000,000+\n",
      "Oxford A-Z of English Usage : 1,000,000+\n",
      "Dictionary.com: Find Definitions for English Words : 10,000,000+\n",
      "English Dictionary - Offline : 10,000,000+\n",
      "Bible KJV : 5,000,000+\n",
      "NOOK: Read eBooks & Magazines : 10,000,000+\n",
      "Brilliant Quotes: Life, Love, Family & Motivation : 1,000,000+\n",
      "Stats Royale for Clash Royale : 1,000,000+\n",
      "Dictionary : 10,000,000+\n",
      "wikiHow: how to do anything : 1,000,000+\n",
      "EGW Writings : 1,000,000+\n",
      "My Little Pony AR Guide : 1,000,000+\n",
      "Spanish English Translator : 10,000,000+\n",
      "Dictionary - Merriam-Webster : 10,000,000+\n",
      "JW Library : 10,000,000+\n",
      "Oxford Dictionary of English : Free : 10,000,000+\n",
      "English Hindi Dictionary : 10,000,000+\n",
      "English to Hindi Dictionary : 5,000,000+\n"
     ]
    }
   ],
   "source": [
    "for row in Play_Store_Final:\n",
    "    if row[1] == 'BOOKS_AND_REFERENCE' and (row[5] == '1,000,000+'\n",
    "                                            or row[5] == '5,000,000+'\n",
    "                                            or row[5] == '10,000,000+'\n",
    "                                            or row[5] == '50,000,000+'):\n",
    "        print(row[0], ':', row[5])"
   ]
  },
  {
   "cell_type": "markdown",
   "id": "287d9471",
   "metadata": {},
   "source": [
    "This niche seems to be dominated by software for processing and reading ebooks, as well as various collections of libraries and dictionaries, so it's probably not a good idea to build similar apps since there'll be some significant competition.\n",
    "\n",
    "We also notice there are quite a few apps built around the book Quran, which suggests that building an app around a popular book can be profitable. It seems that taking a popular book (perhaps a more recent book) and turning it into an app could be profitable for both the Google Play and the App Store markets.\n",
    "\n",
    "However, it looks like the market is already full of libraries, so we need to add some special features besides the raw version of the book. This might include daily quotes from the book, an audio version of the book, quizzes on the book, a forum where people can discuss the book, etc."
   ]
  },
  {
   "cell_type": "markdown",
   "id": "bf889c3c",
   "metadata": {},
   "source": [
    "## Conclusions\n",
    "In this project, we analyzed data about the App Store and Google Play mobile apps with the goal of recommending an app profile that can be profitable for both markets.\n",
    "\n",
    "We concluded that taking a popular book (perhaps a more recent book) and turning it into an app could be profitable for both the Google Play and the App Store markets. The markets are already full of libraries, so we need to add some special features besides the raw version of the book. This might include daily quotes from the book, an audio version of the book, quizzes on the book, a forum where people can discuss the book, etc."
   ]
  },
  {
   "cell_type": "code",
   "execution_count": null,
   "id": "d6e93dcd",
   "metadata": {},
   "outputs": [],
   "source": []
  }
 ],
 "metadata": {
  "kernelspec": {
   "display_name": "Python 3 (ipykernel)",
   "language": "python",
   "name": "python3"
  },
  "language_info": {
   "codemirror_mode": {
    "name": "ipython",
    "version": 3
   },
   "file_extension": ".py",
   "mimetype": "text/x-python",
   "name": "python",
   "nbconvert_exporter": "python",
   "pygments_lexer": "ipython3",
   "version": "3.9.7"
  }
 },
 "nbformat": 4,
 "nbformat_minor": 5
}
