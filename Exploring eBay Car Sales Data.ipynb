{
 "cells": [
  {
   "cell_type": "markdown",
   "id": "7bcf3d48",
   "metadata": {},
   "source": [
    "# Exploring eBay Car Sales Data\n",
    "We'll work with a dataset of used cars from eBay Kleinanzeigen, a classifieds section of the German eBay website.\n",
    "You can find the dataset [here](https://data.world/data-society/used-cars-data)."
   ]
  },
  {
   "cell_type": "markdown",
   "id": "0d1098b9",
   "metadata": {},
   "source": [
    "<center>The data dictionary provided with data is as follows:\n",
    "\n",
    "| <center>Column | <center>Description |\n",
    "|---:|:---|\n",
    "| `dateCrawled` | When this ad was first crawled. All field-values are taken from this date |\n",
    "| `name` | Name of the car |\n",
    "| `seller` | Whether the seller is private or a dealer |\n",
    "| `offerType` | The type of listing |\n",
    "| `price` | The price on the ad to sell the car |\n",
    "| `abtest` | Whether the listing is included in an A/B test |\n",
    "| `vehicleType` | The vehicle Type |\n",
    "| `yearOfRegistration` | The year in which the car was first registered |\n",
    "| `gearbox` | The transmission type |\n",
    "| `powerPS` | The power of the car in PS |\n",
    "| `model` | The car model name |\n",
    "| `kilometer` | How many kilometers the car has driven |\n",
    "| `monthOfRegistration` | The month in which the car was first registered |\n",
    "| `fuelType` | What type of fuel the car uses |\n",
    "| `brand` | The brand of the car |\n",
    "| `notRepairedDamage` | If the car has a damage which is not yet repaired |\n",
    "| `dateCreated` | TThe date on which the eBay listing was created |\n",
    "| `nrOfPictures` | The number of pictures in the ad |\n",
    "| `postalCode` | The postal code for the location of the vehicle |\n",
    "| `lastSeen` | When the crawler saw this ad last online |"
   ]
  },
  {
   "cell_type": "markdown",
   "id": "927e2991",
   "metadata": {},
   "source": [
    "### Project Goal\n",
    "The aim of this project is to clean the data and analyze the used car listings.\n",
    "\n",
    "### Knowledge used for the project\n",
    "\n",
    " - `Pandas.read_csv()` **function** with `encoding='Latin-1'` **parameter** | to open and read a .csv file;\n",
    " - `Pandas.Series()` **function** with `encoding='Latin-1'` **parameter** | to create a new Series; \n",
    " - `Pandas.DataFrame()` **function** with `columns=['mean_price']` **parameter** | to create a new DataFrame from a Series specifying the column name; \n",
    " - `DataFrame.info()` **method** | To have a DataFrame overview;\n",
    " - `DataFrame.head()` **method** | To print first 5 rows;\n",
    " - `DataFrame.columns` **attribute** | To return the label of each column;\n",
    " - `DataFrame.describe()` **method** with `include='all'` **parameter** | To understand the distribution without any extra data processing with null values included;\n",
    " - `DataFrame.drop()` **method** with `axis=1` **parameter** | To remove unnecessary <span style='color:Blue'> columns  </span> of our dataset;\n",
    " - `Series.unique()` **method** | To return all unique values of the column;\n",
    " - `Series.shape` **attribute** | To return the number of rows and columns;\n",
    " - `Series.apply()` **method** | To suppress usage of scientific notation;\n",
    " - `Series.value_counts()` **method** with `normalize=True` & `dropna=False` | To count distinct values in the series - Normalize: If True then the object returned will contain the relative frequencies of the unique values & dropna False to include counts of NaN;\n",
    " - `Series.sort_index()` **method** with `ascending=False` **parameter** | To suppress usage of scientific notation;\n",
    " - `Series.between()` **method** | To filter series by value range;\n",
    " - `Series.str()` **method** | To perform vectorized string functions without using for loop;\n",
    " - `Series.size` **attribute** | To filter series by value range;\n",
    " - `Series.mean()` **method** | To return series mean;\n",
    " - `Series.loc()` **method** | To filter series rows by boolean and columns by column name; \n",
    " - `Series.index` **attribute** | To store into a list the DataFrame index.\n",
    " - `Series.map()` **method** | To use a from-to dictionary and overite columns data; \n",
    " - `Series.astype()` **method** | To convert a string to integer type; \n",
    " - `Series.isnull()` **method** | To filter series rows that only contain null values; \n",
    " - `Series.replace()` **method** | To replace string values; \n",
    " - `Series.split()` **method** | To split string values based in a specific content, then selecting the first element. "
   ]
  },
  {
   "cell_type": "markdown",
   "id": "720d353f",
   "metadata": {},
   "source": [
    "### 1. Importing libraries and reading our file\n",
    "We will use NunPy and Pandas libraries and import the csv file"
   ]
  },
  {
   "cell_type": "code",
   "execution_count": 1,
   "id": "303eb539",
   "metadata": {},
   "outputs": [
    {
     "name": "stdout",
     "output_type": "stream",
     "text": [
      "<class 'pandas.core.frame.DataFrame'>\n",
      "RangeIndex: 371528 entries, 0 to 371527\n",
      "Data columns (total 20 columns):\n",
      " #   Column               Non-Null Count   Dtype \n",
      "---  ------               --------------   ----- \n",
      " 0   dateCrawled          371528 non-null  object\n",
      " 1   name                 371528 non-null  object\n",
      " 2   seller               371528 non-null  object\n",
      " 3   offerType            371528 non-null  object\n",
      " 4   price                371528 non-null  int64 \n",
      " 5   abtest               371528 non-null  object\n",
      " 6   vehicleType          333659 non-null  object\n",
      " 7   yearOfRegistration   371528 non-null  int64 \n",
      " 8   gearbox              351319 non-null  object\n",
      " 9   powerPS              371528 non-null  int64 \n",
      " 10  model                351044 non-null  object\n",
      " 11  kilometer            371528 non-null  int64 \n",
      " 12  monthOfRegistration  371528 non-null  int64 \n",
      " 13  fuelType             338142 non-null  object\n",
      " 14  brand                371528 non-null  object\n",
      " 15  notRepairedDamage    299468 non-null  object\n",
      " 16  dateCreated          371528 non-null  object\n",
      " 17  nrOfPictures         371528 non-null  int64 \n",
      " 18  postalCode           371528 non-null  int64 \n",
      " 19  lastSeen             371528 non-null  object\n",
      "dtypes: int64(7), object(13)\n",
      "memory usage: 56.7+ MB\n"
     ]
    },
    {
     "data": {
      "text/html": [
       "<div>\n",
       "<style scoped>\n",
       "    .dataframe tbody tr th:only-of-type {\n",
       "        vertical-align: middle;\n",
       "    }\n",
       "\n",
       "    .dataframe tbody tr th {\n",
       "        vertical-align: top;\n",
       "    }\n",
       "\n",
       "    .dataframe thead th {\n",
       "        text-align: right;\n",
       "    }\n",
       "</style>\n",
       "<table border=\"1\" class=\"dataframe\">\n",
       "  <thead>\n",
       "    <tr style=\"text-align: right;\">\n",
       "      <th></th>\n",
       "      <th>dateCrawled</th>\n",
       "      <th>name</th>\n",
       "      <th>seller</th>\n",
       "      <th>offerType</th>\n",
       "      <th>price</th>\n",
       "      <th>abtest</th>\n",
       "      <th>vehicleType</th>\n",
       "      <th>yearOfRegistration</th>\n",
       "      <th>gearbox</th>\n",
       "      <th>powerPS</th>\n",
       "      <th>model</th>\n",
       "      <th>kilometer</th>\n",
       "      <th>monthOfRegistration</th>\n",
       "      <th>fuelType</th>\n",
       "      <th>brand</th>\n",
       "      <th>notRepairedDamage</th>\n",
       "      <th>dateCreated</th>\n",
       "      <th>nrOfPictures</th>\n",
       "      <th>postalCode</th>\n",
       "      <th>lastSeen</th>\n",
       "    </tr>\n",
       "  </thead>\n",
       "  <tbody>\n",
       "    <tr>\n",
       "      <th>0</th>\n",
       "      <td>2016-03-24 11:52:17</td>\n",
       "      <td>Golf_3_1.6</td>\n",
       "      <td>privat</td>\n",
       "      <td>Angebot</td>\n",
       "      <td>480</td>\n",
       "      <td>test</td>\n",
       "      <td>NaN</td>\n",
       "      <td>1993</td>\n",
       "      <td>manuell</td>\n",
       "      <td>0</td>\n",
       "      <td>golf</td>\n",
       "      <td>150000</td>\n",
       "      <td>0</td>\n",
       "      <td>benzin</td>\n",
       "      <td>volkswagen</td>\n",
       "      <td>NaN</td>\n",
       "      <td>2016-03-24 00:00:00</td>\n",
       "      <td>0</td>\n",
       "      <td>70435</td>\n",
       "      <td>2016-04-07 03:16:57</td>\n",
       "    </tr>\n",
       "    <tr>\n",
       "      <th>1</th>\n",
       "      <td>2016-03-24 10:58:45</td>\n",
       "      <td>A5_Sportback_2.7_Tdi</td>\n",
       "      <td>privat</td>\n",
       "      <td>Angebot</td>\n",
       "      <td>18300</td>\n",
       "      <td>test</td>\n",
       "      <td>coupe</td>\n",
       "      <td>2011</td>\n",
       "      <td>manuell</td>\n",
       "      <td>190</td>\n",
       "      <td>NaN</td>\n",
       "      <td>125000</td>\n",
       "      <td>5</td>\n",
       "      <td>diesel</td>\n",
       "      <td>audi</td>\n",
       "      <td>ja</td>\n",
       "      <td>2016-03-24 00:00:00</td>\n",
       "      <td>0</td>\n",
       "      <td>66954</td>\n",
       "      <td>2016-04-07 01:46:50</td>\n",
       "    </tr>\n",
       "    <tr>\n",
       "      <th>2</th>\n",
       "      <td>2016-03-14 12:52:21</td>\n",
       "      <td>Jeep_Grand_Cherokee_\"Overland\"</td>\n",
       "      <td>privat</td>\n",
       "      <td>Angebot</td>\n",
       "      <td>9800</td>\n",
       "      <td>test</td>\n",
       "      <td>suv</td>\n",
       "      <td>2004</td>\n",
       "      <td>automatik</td>\n",
       "      <td>163</td>\n",
       "      <td>grand</td>\n",
       "      <td>125000</td>\n",
       "      <td>8</td>\n",
       "      <td>diesel</td>\n",
       "      <td>jeep</td>\n",
       "      <td>NaN</td>\n",
       "      <td>2016-03-14 00:00:00</td>\n",
       "      <td>0</td>\n",
       "      <td>90480</td>\n",
       "      <td>2016-04-05 12:47:46</td>\n",
       "    </tr>\n",
       "    <tr>\n",
       "      <th>3</th>\n",
       "      <td>2016-03-17 16:54:04</td>\n",
       "      <td>GOLF_4_1_4__3TÜRER</td>\n",
       "      <td>privat</td>\n",
       "      <td>Angebot</td>\n",
       "      <td>1500</td>\n",
       "      <td>test</td>\n",
       "      <td>kleinwagen</td>\n",
       "      <td>2001</td>\n",
       "      <td>manuell</td>\n",
       "      <td>75</td>\n",
       "      <td>golf</td>\n",
       "      <td>150000</td>\n",
       "      <td>6</td>\n",
       "      <td>benzin</td>\n",
       "      <td>volkswagen</td>\n",
       "      <td>nein</td>\n",
       "      <td>2016-03-17 00:00:00</td>\n",
       "      <td>0</td>\n",
       "      <td>91074</td>\n",
       "      <td>2016-03-17 17:40:17</td>\n",
       "    </tr>\n",
       "    <tr>\n",
       "      <th>4</th>\n",
       "      <td>2016-03-31 17:25:20</td>\n",
       "      <td>Skoda_Fabia_1.4_TDI_PD_Classic</td>\n",
       "      <td>privat</td>\n",
       "      <td>Angebot</td>\n",
       "      <td>3600</td>\n",
       "      <td>test</td>\n",
       "      <td>kleinwagen</td>\n",
       "      <td>2008</td>\n",
       "      <td>manuell</td>\n",
       "      <td>69</td>\n",
       "      <td>fabia</td>\n",
       "      <td>90000</td>\n",
       "      <td>7</td>\n",
       "      <td>diesel</td>\n",
       "      <td>skoda</td>\n",
       "      <td>nein</td>\n",
       "      <td>2016-03-31 00:00:00</td>\n",
       "      <td>0</td>\n",
       "      <td>60437</td>\n",
       "      <td>2016-04-06 10:17:21</td>\n",
       "    </tr>\n",
       "  </tbody>\n",
       "</table>\n",
       "</div>"
      ],
      "text/plain": [
       "           dateCrawled                            name  seller offerType  \\\n",
       "0  2016-03-24 11:52:17                      Golf_3_1.6  privat   Angebot   \n",
       "1  2016-03-24 10:58:45            A5_Sportback_2.7_Tdi  privat   Angebot   \n",
       "2  2016-03-14 12:52:21  Jeep_Grand_Cherokee_\"Overland\"  privat   Angebot   \n",
       "3  2016-03-17 16:54:04              GOLF_4_1_4__3TÜRER  privat   Angebot   \n",
       "4  2016-03-31 17:25:20  Skoda_Fabia_1.4_TDI_PD_Classic  privat   Angebot   \n",
       "\n",
       "   price abtest vehicleType  yearOfRegistration    gearbox  powerPS  model  \\\n",
       "0    480   test         NaN                1993    manuell        0   golf   \n",
       "1  18300   test       coupe                2011    manuell      190    NaN   \n",
       "2   9800   test         suv                2004  automatik      163  grand   \n",
       "3   1500   test  kleinwagen                2001    manuell       75   golf   \n",
       "4   3600   test  kleinwagen                2008    manuell       69  fabia   \n",
       "\n",
       "   kilometer  monthOfRegistration fuelType       brand notRepairedDamage  \\\n",
       "0     150000                    0   benzin  volkswagen               NaN   \n",
       "1     125000                    5   diesel        audi                ja   \n",
       "2     125000                    8   diesel        jeep               NaN   \n",
       "3     150000                    6   benzin  volkswagen              nein   \n",
       "4      90000                    7   diesel       skoda              nein   \n",
       "\n",
       "           dateCreated  nrOfPictures  postalCode             lastSeen  \n",
       "0  2016-03-24 00:00:00             0       70435  2016-04-07 03:16:57  \n",
       "1  2016-03-24 00:00:00             0       66954  2016-04-07 01:46:50  \n",
       "2  2016-03-14 00:00:00             0       90480  2016-04-05 12:47:46  \n",
       "3  2016-03-17 00:00:00             0       91074  2016-03-17 17:40:17  \n",
       "4  2016-03-31 00:00:00             0       60437  2016-04-06 10:17:21  "
      ]
     },
     "execution_count": 1,
     "metadata": {},
     "output_type": "execute_result"
    }
   ],
   "source": [
    "import pandas as pd\n",
    "import numpy as np\n",
    "autos = pd.read_csv('C:/Users/Daniel Mendes/Projects/Databases/autos.csv', encoding='Latin-1')\n",
    "autos.info()\n",
    "autos.head()"
   ]
  },
  {
   "cell_type": "markdown",
   "id": "e0787f6d",
   "metadata": {},
   "source": [
    "### 2. First impressions\n",
    "We used .info() and .head() methods for a initial look at the database and we noticed:\n",
    "\n",
    "    1. Many columns with null data: vehicleType, gearbox, model, fuelType and notRepairedDamage. This last one with significant amount of null values;\n",
    "    2. Upper and lower cases in columns names;\n",
    "    3. Date columns imported as string (object).\n",
    "    4. The column names use camelcase instead of Python's preferred snakecase, which means we can't just replace spaces with underscores.\n",
    "\n",
    "### 3. Standardizing our columns\n",
    "Let's start our data cleaning changing and standardize our columns."
   ]
  },
  {
   "cell_type": "code",
   "execution_count": 2,
   "id": "46bb2e21",
   "metadata": {
    "scrolled": true
   },
   "outputs": [
    {
     "name": "stdout",
     "output_type": "stream",
     "text": [
      "Index(['date_crawled', 'name', 'seller', 'offer_type', 'price', 'ab_test',\n",
      "       'vehicle_type', 'registration_year', 'gear_box', 'power_ps', 'model',\n",
      "       'kilometer', 'registration_month', 'fuel_type', 'brand',\n",
      "       'unrepaired_damage', 'ad_created', 'nr_of_pictures', 'postal_code',\n",
      "       'last_seen'],\n",
      "      dtype='object')\n"
     ]
    }
   ],
   "source": [
    "autos.columns = ['date_crawled',\n",
    "                 'name',\n",
    "                 'seller',\n",
    "                 'offer_type',\n",
    "                 'price',\n",
    "                 'ab_test',\n",
    "                 'vehicle_type',\n",
    "                 'registration_year',\n",
    "                 'gear_box',\n",
    "                 'power_ps',\n",
    "                 'model',\n",
    "                 'kilometer',\n",
    "                 'registration_month',\n",
    "                 'fuel_type',\n",
    "                 'brand',\n",
    "                 'unrepaired_damage',\n",
    "                 'ad_created',\n",
    "                 'nr_of_pictures',\n",
    "                 'postal_code',\n",
    "                 'last_seen']\n",
    "\n",
    "print(autos.columns)"
   ]
  },
  {
   "cell_type": "markdown",
   "id": "0ed577b2",
   "metadata": {},
   "source": [
    "With our new columns, lets now investigate now more our data using .describe() method."
   ]
  },
  {
   "cell_type": "code",
   "execution_count": 3,
   "id": "27e982bf",
   "metadata": {
    "scrolled": false
   },
   "outputs": [
    {
     "data": {
      "text/html": [
       "<div>\n",
       "<style scoped>\n",
       "    .dataframe tbody tr th:only-of-type {\n",
       "        vertical-align: middle;\n",
       "    }\n",
       "\n",
       "    .dataframe tbody tr th {\n",
       "        vertical-align: top;\n",
       "    }\n",
       "\n",
       "    .dataframe thead th {\n",
       "        text-align: right;\n",
       "    }\n",
       "</style>\n",
       "<table border=\"1\" class=\"dataframe\">\n",
       "  <thead>\n",
       "    <tr style=\"text-align: right;\">\n",
       "      <th></th>\n",
       "      <th>date_crawled</th>\n",
       "      <th>name</th>\n",
       "      <th>seller</th>\n",
       "      <th>offer_type</th>\n",
       "      <th>price</th>\n",
       "      <th>ab_test</th>\n",
       "      <th>vehicle_type</th>\n",
       "      <th>registration_year</th>\n",
       "      <th>gear_box</th>\n",
       "      <th>power_ps</th>\n",
       "      <th>model</th>\n",
       "      <th>kilometer</th>\n",
       "      <th>registration_month</th>\n",
       "      <th>fuel_type</th>\n",
       "      <th>brand</th>\n",
       "      <th>unrepaired_damage</th>\n",
       "      <th>ad_created</th>\n",
       "      <th>nr_of_pictures</th>\n",
       "      <th>postal_code</th>\n",
       "      <th>last_seen</th>\n",
       "    </tr>\n",
       "  </thead>\n",
       "  <tbody>\n",
       "    <tr>\n",
       "      <th>count</th>\n",
       "      <td>371528</td>\n",
       "      <td>371528</td>\n",
       "      <td>371528</td>\n",
       "      <td>371528</td>\n",
       "      <td>3.715280e+05</td>\n",
       "      <td>371528</td>\n",
       "      <td>333659</td>\n",
       "      <td>371528.000000</td>\n",
       "      <td>351319</td>\n",
       "      <td>371528.000000</td>\n",
       "      <td>351044</td>\n",
       "      <td>371528.000000</td>\n",
       "      <td>371528.000000</td>\n",
       "      <td>338142</td>\n",
       "      <td>371528</td>\n",
       "      <td>299468</td>\n",
       "      <td>371528</td>\n",
       "      <td>371528.0</td>\n",
       "      <td>371528.00000</td>\n",
       "      <td>371528</td>\n",
       "    </tr>\n",
       "    <tr>\n",
       "      <th>unique</th>\n",
       "      <td>280500</td>\n",
       "      <td>233531</td>\n",
       "      <td>2</td>\n",
       "      <td>2</td>\n",
       "      <td>NaN</td>\n",
       "      <td>2</td>\n",
       "      <td>8</td>\n",
       "      <td>NaN</td>\n",
       "      <td>2</td>\n",
       "      <td>NaN</td>\n",
       "      <td>251</td>\n",
       "      <td>NaN</td>\n",
       "      <td>NaN</td>\n",
       "      <td>7</td>\n",
       "      <td>40</td>\n",
       "      <td>2</td>\n",
       "      <td>114</td>\n",
       "      <td>NaN</td>\n",
       "      <td>NaN</td>\n",
       "      <td>182806</td>\n",
       "    </tr>\n",
       "    <tr>\n",
       "      <th>top</th>\n",
       "      <td>2016-03-24 14:49:47</td>\n",
       "      <td>Ford_Fiesta</td>\n",
       "      <td>privat</td>\n",
       "      <td>Angebot</td>\n",
       "      <td>NaN</td>\n",
       "      <td>test</td>\n",
       "      <td>limousine</td>\n",
       "      <td>NaN</td>\n",
       "      <td>manuell</td>\n",
       "      <td>NaN</td>\n",
       "      <td>golf</td>\n",
       "      <td>NaN</td>\n",
       "      <td>NaN</td>\n",
       "      <td>benzin</td>\n",
       "      <td>volkswagen</td>\n",
       "      <td>nein</td>\n",
       "      <td>2016-04-03 00:00:00</td>\n",
       "      <td>NaN</td>\n",
       "      <td>NaN</td>\n",
       "      <td>2016-04-07 06:45:59</td>\n",
       "    </tr>\n",
       "    <tr>\n",
       "      <th>freq</th>\n",
       "      <td>7</td>\n",
       "      <td>657</td>\n",
       "      <td>371525</td>\n",
       "      <td>371516</td>\n",
       "      <td>NaN</td>\n",
       "      <td>192585</td>\n",
       "      <td>95894</td>\n",
       "      <td>NaN</td>\n",
       "      <td>274214</td>\n",
       "      <td>NaN</td>\n",
       "      <td>30070</td>\n",
       "      <td>NaN</td>\n",
       "      <td>NaN</td>\n",
       "      <td>223857</td>\n",
       "      <td>79640</td>\n",
       "      <td>263182</td>\n",
       "      <td>14450</td>\n",
       "      <td>NaN</td>\n",
       "      <td>NaN</td>\n",
       "      <td>17</td>\n",
       "    </tr>\n",
       "    <tr>\n",
       "      <th>mean</th>\n",
       "      <td>NaN</td>\n",
       "      <td>NaN</td>\n",
       "      <td>NaN</td>\n",
       "      <td>NaN</td>\n",
       "      <td>1.729514e+04</td>\n",
       "      <td>NaN</td>\n",
       "      <td>NaN</td>\n",
       "      <td>2004.577997</td>\n",
       "      <td>NaN</td>\n",
       "      <td>115.549477</td>\n",
       "      <td>NaN</td>\n",
       "      <td>125618.688228</td>\n",
       "      <td>5.734445</td>\n",
       "      <td>NaN</td>\n",
       "      <td>NaN</td>\n",
       "      <td>NaN</td>\n",
       "      <td>NaN</td>\n",
       "      <td>0.0</td>\n",
       "      <td>50820.66764</td>\n",
       "      <td>NaN</td>\n",
       "    </tr>\n",
       "    <tr>\n",
       "      <th>std</th>\n",
       "      <td>NaN</td>\n",
       "      <td>NaN</td>\n",
       "      <td>NaN</td>\n",
       "      <td>NaN</td>\n",
       "      <td>3.587954e+06</td>\n",
       "      <td>NaN</td>\n",
       "      <td>NaN</td>\n",
       "      <td>92.866598</td>\n",
       "      <td>NaN</td>\n",
       "      <td>192.139578</td>\n",
       "      <td>NaN</td>\n",
       "      <td>40112.337051</td>\n",
       "      <td>3.712412</td>\n",
       "      <td>NaN</td>\n",
       "      <td>NaN</td>\n",
       "      <td>NaN</td>\n",
       "      <td>NaN</td>\n",
       "      <td>0.0</td>\n",
       "      <td>25799.08247</td>\n",
       "      <td>NaN</td>\n",
       "    </tr>\n",
       "    <tr>\n",
       "      <th>min</th>\n",
       "      <td>NaN</td>\n",
       "      <td>NaN</td>\n",
       "      <td>NaN</td>\n",
       "      <td>NaN</td>\n",
       "      <td>0.000000e+00</td>\n",
       "      <td>NaN</td>\n",
       "      <td>NaN</td>\n",
       "      <td>1000.000000</td>\n",
       "      <td>NaN</td>\n",
       "      <td>0.000000</td>\n",
       "      <td>NaN</td>\n",
       "      <td>5000.000000</td>\n",
       "      <td>0.000000</td>\n",
       "      <td>NaN</td>\n",
       "      <td>NaN</td>\n",
       "      <td>NaN</td>\n",
       "      <td>NaN</td>\n",
       "      <td>0.0</td>\n",
       "      <td>1067.00000</td>\n",
       "      <td>NaN</td>\n",
       "    </tr>\n",
       "    <tr>\n",
       "      <th>25%</th>\n",
       "      <td>NaN</td>\n",
       "      <td>NaN</td>\n",
       "      <td>NaN</td>\n",
       "      <td>NaN</td>\n",
       "      <td>1.150000e+03</td>\n",
       "      <td>NaN</td>\n",
       "      <td>NaN</td>\n",
       "      <td>1999.000000</td>\n",
       "      <td>NaN</td>\n",
       "      <td>70.000000</td>\n",
       "      <td>NaN</td>\n",
       "      <td>125000.000000</td>\n",
       "      <td>3.000000</td>\n",
       "      <td>NaN</td>\n",
       "      <td>NaN</td>\n",
       "      <td>NaN</td>\n",
       "      <td>NaN</td>\n",
       "      <td>0.0</td>\n",
       "      <td>30459.00000</td>\n",
       "      <td>NaN</td>\n",
       "    </tr>\n",
       "    <tr>\n",
       "      <th>50%</th>\n",
       "      <td>NaN</td>\n",
       "      <td>NaN</td>\n",
       "      <td>NaN</td>\n",
       "      <td>NaN</td>\n",
       "      <td>2.950000e+03</td>\n",
       "      <td>NaN</td>\n",
       "      <td>NaN</td>\n",
       "      <td>2003.000000</td>\n",
       "      <td>NaN</td>\n",
       "      <td>105.000000</td>\n",
       "      <td>NaN</td>\n",
       "      <td>150000.000000</td>\n",
       "      <td>6.000000</td>\n",
       "      <td>NaN</td>\n",
       "      <td>NaN</td>\n",
       "      <td>NaN</td>\n",
       "      <td>NaN</td>\n",
       "      <td>0.0</td>\n",
       "      <td>49610.00000</td>\n",
       "      <td>NaN</td>\n",
       "    </tr>\n",
       "    <tr>\n",
       "      <th>75%</th>\n",
       "      <td>NaN</td>\n",
       "      <td>NaN</td>\n",
       "      <td>NaN</td>\n",
       "      <td>NaN</td>\n",
       "      <td>7.200000e+03</td>\n",
       "      <td>NaN</td>\n",
       "      <td>NaN</td>\n",
       "      <td>2008.000000</td>\n",
       "      <td>NaN</td>\n",
       "      <td>150.000000</td>\n",
       "      <td>NaN</td>\n",
       "      <td>150000.000000</td>\n",
       "      <td>9.000000</td>\n",
       "      <td>NaN</td>\n",
       "      <td>NaN</td>\n",
       "      <td>NaN</td>\n",
       "      <td>NaN</td>\n",
       "      <td>0.0</td>\n",
       "      <td>71546.00000</td>\n",
       "      <td>NaN</td>\n",
       "    </tr>\n",
       "    <tr>\n",
       "      <th>max</th>\n",
       "      <td>NaN</td>\n",
       "      <td>NaN</td>\n",
       "      <td>NaN</td>\n",
       "      <td>NaN</td>\n",
       "      <td>2.147484e+09</td>\n",
       "      <td>NaN</td>\n",
       "      <td>NaN</td>\n",
       "      <td>9999.000000</td>\n",
       "      <td>NaN</td>\n",
       "      <td>20000.000000</td>\n",
       "      <td>NaN</td>\n",
       "      <td>150000.000000</td>\n",
       "      <td>12.000000</td>\n",
       "      <td>NaN</td>\n",
       "      <td>NaN</td>\n",
       "      <td>NaN</td>\n",
       "      <td>NaN</td>\n",
       "      <td>0.0</td>\n",
       "      <td>99998.00000</td>\n",
       "      <td>NaN</td>\n",
       "    </tr>\n",
       "  </tbody>\n",
       "</table>\n",
       "</div>"
      ],
      "text/plain": [
       "               date_crawled         name  seller offer_type         price  \\\n",
       "count                371528       371528  371528     371528  3.715280e+05   \n",
       "unique               280500       233531       2          2           NaN   \n",
       "top     2016-03-24 14:49:47  Ford_Fiesta  privat    Angebot           NaN   \n",
       "freq                      7          657  371525     371516           NaN   \n",
       "mean                    NaN          NaN     NaN        NaN  1.729514e+04   \n",
       "std                     NaN          NaN     NaN        NaN  3.587954e+06   \n",
       "min                     NaN          NaN     NaN        NaN  0.000000e+00   \n",
       "25%                     NaN          NaN     NaN        NaN  1.150000e+03   \n",
       "50%                     NaN          NaN     NaN        NaN  2.950000e+03   \n",
       "75%                     NaN          NaN     NaN        NaN  7.200000e+03   \n",
       "max                     NaN          NaN     NaN        NaN  2.147484e+09   \n",
       "\n",
       "       ab_test vehicle_type  registration_year gear_box       power_ps  \\\n",
       "count   371528       333659      371528.000000   351319  371528.000000   \n",
       "unique       2            8                NaN        2            NaN   \n",
       "top       test    limousine                NaN  manuell            NaN   \n",
       "freq    192585        95894                NaN   274214            NaN   \n",
       "mean       NaN          NaN        2004.577997      NaN     115.549477   \n",
       "std        NaN          NaN          92.866598      NaN     192.139578   \n",
       "min        NaN          NaN        1000.000000      NaN       0.000000   \n",
       "25%        NaN          NaN        1999.000000      NaN      70.000000   \n",
       "50%        NaN          NaN        2003.000000      NaN     105.000000   \n",
       "75%        NaN          NaN        2008.000000      NaN     150.000000   \n",
       "max        NaN          NaN        9999.000000      NaN   20000.000000   \n",
       "\n",
       "         model      kilometer  registration_month fuel_type       brand  \\\n",
       "count   351044  371528.000000       371528.000000    338142      371528   \n",
       "unique     251            NaN                 NaN         7          40   \n",
       "top       golf            NaN                 NaN    benzin  volkswagen   \n",
       "freq     30070            NaN                 NaN    223857       79640   \n",
       "mean       NaN  125618.688228            5.734445       NaN         NaN   \n",
       "std        NaN   40112.337051            3.712412       NaN         NaN   \n",
       "min        NaN    5000.000000            0.000000       NaN         NaN   \n",
       "25%        NaN  125000.000000            3.000000       NaN         NaN   \n",
       "50%        NaN  150000.000000            6.000000       NaN         NaN   \n",
       "75%        NaN  150000.000000            9.000000       NaN         NaN   \n",
       "max        NaN  150000.000000           12.000000       NaN         NaN   \n",
       "\n",
       "       unrepaired_damage           ad_created  nr_of_pictures   postal_code  \\\n",
       "count             299468               371528        371528.0  371528.00000   \n",
       "unique                 2                  114             NaN           NaN   \n",
       "top                 nein  2016-04-03 00:00:00             NaN           NaN   \n",
       "freq              263182                14450             NaN           NaN   \n",
       "mean                 NaN                  NaN             0.0   50820.66764   \n",
       "std                  NaN                  NaN             0.0   25799.08247   \n",
       "min                  NaN                  NaN             0.0    1067.00000   \n",
       "25%                  NaN                  NaN             0.0   30459.00000   \n",
       "50%                  NaN                  NaN             0.0   49610.00000   \n",
       "75%                  NaN                  NaN             0.0   71546.00000   \n",
       "max                  NaN                  NaN             0.0   99998.00000   \n",
       "\n",
       "                  last_seen  \n",
       "count                371528  \n",
       "unique               182806  \n",
       "top     2016-04-07 06:45:59  \n",
       "freq                     17  \n",
       "mean                    NaN  \n",
       "std                     NaN  \n",
       "min                     NaN  \n",
       "25%                     NaN  \n",
       "50%                     NaN  \n",
       "75%                     NaN  \n",
       "max                     NaN  "
      ]
     },
     "execution_count": 3,
     "metadata": {},
     "output_type": "execute_result"
    }
   ],
   "source": [
    "autos.describe(include='all')"
   ]
  },
  {
   "cell_type": "markdown",
   "id": "e9779488",
   "metadata": {},
   "source": [
    "### 4. Removing columns\n",
    "\n",
    "We can note that 'privat' seller represents 99,99% of the total seller types, something similar happens with offer_type column that have only 2 unique values and one of them represents over 95% of the total. Those columns are strong candidates to be dropped, since they dont offer us any insights. Also all the data in num_pictures is 0, it appears that none of the listings contain any pictures.\n",
    "\n",
    "Let's drop those three columns and  deepdive in price column to check if our integer column is okay."
   ]
  },
  {
   "cell_type": "code",
   "execution_count": 4,
   "id": "6c31aa13",
   "metadata": {},
   "outputs": [
    {
     "name": "stdout",
     "output_type": "stream",
     "text": [
      "Unique values:\n",
      "(5597,) \n",
      "\n",
      "Descriptive statistics:\n",
      "count        371528.000000\n",
      "mean          17295.141865\n",
      "std         3587953.744410\n",
      "min               0.000000\n",
      "25%            1150.000000\n",
      "50%            2950.000000\n",
      "75%            7200.000000\n",
      "max      2147483647.000000\n",
      "Name: price, dtype: object \n",
      "\n",
      "Top 5 values:\n",
      "2147483647     1\n",
      "99999999      15\n",
      "99000000       1\n",
      "74185296       1\n",
      "32545461       1\n",
      "Name: price, dtype: int64\n"
     ]
    }
   ],
   "source": [
    "autos.drop(['seller','offer_type','nr_of_pictures'], axis=1)\n",
    "\n",
    "print('Unique values:')\n",
    "print(autos['price'].unique().shape, '\\n')\n",
    "print('Descriptive statistics:')\n",
    "print(autos['price'].describe().apply(lambda x: format(x, 'f')), '\\n')\n",
    "print('Top 5 values:')\n",
    "print(autos['price'].value_counts().sort_index(ascending=False).head())"
   ]
  },
  {
   "cell_type": "markdown",
   "id": "ff18ea9b",
   "metadata": {},
   "source": [
    "### 5. Translating Non-English Words\n",
    "\n",
    "In total, there were six columns recorded in German. However, we had already dropped two of the affected columns. We will explore the remaining four below"
   ]
  },
  {
   "cell_type": "code",
   "execution_count": 5,
   "id": "1489320b",
   "metadata": {},
   "outputs": [
    {
     "name": "stdout",
     "output_type": "stream",
     "text": [
      "\n",
      "[nan 'coupe' 'suv' 'kleinwagen' 'limousine' 'cabrio' 'bus' 'kombi'\n",
      " 'andere']\n",
      "\n",
      "['manuell' 'automatik' nan]\n",
      "\n",
      "['benzin' 'diesel' nan 'lpg' 'andere' 'hybrid' 'cng' 'elektro']\n",
      "\n",
      "[nan 'ja' 'nein']\n"
     ]
    }
   ],
   "source": [
    "german_columns = ['vehicle_type', 'gear_box','fuel_type', 'unrepaired_damage']\n",
    "\n",
    "# print the unique german words in each column of interest\n",
    "for column in german_columns:\n",
    "    print('')\n",
    "    print(autos[column].unique())"
   ]
  },
  {
   "cell_type": "code",
   "execution_count": 6,
   "id": "6cddfd5d",
   "metadata": {},
   "outputs": [],
   "source": [
    "# translator function\n",
    "def translate_column(df,column,value_dict):\n",
    "    df[column] = df[column].map(value_dict)\n",
    "\n",
    "# A dictionary of translations\n",
    "translations ={# vehicle type terms\n",
    "               'bus':'bus',\n",
    "               'limousine':'limousine',\n",
    "               'kleinwagen': 'small car',\n",
    "               'kombi': 'combo',\n",
    "               'coupe':'coupe',\n",
    "               'suv':'suv',\n",
    "               'cabrio': 'cabrio',\n",
    "               'andere': 'other',\n",
    "               'cabrio': 'convertible',\n",
    "               # gear box terms\n",
    "               'manuell': 'manual',\n",
    "               'automatik': 'automatic',\n",
    "               # fuel type terms\n",
    "               'lpg':'lpg',\n",
    "               'benzin': 'gasoline',\n",
    "               'diesel':'diesel',\n",
    "               'cng':'natural gas',\n",
    "               'hybrid':'hybrid',\n",
    "               'elektro':'electric',\n",
    "               'andere':'other',\n",
    "               # unrepaired damage terms\n",
    "               'nein':'no',\n",
    "               'ja':'yes'}"
   ]
  },
  {
   "cell_type": "markdown",
   "id": "cb92a475",
   "metadata": {},
   "source": [
    "Let's translate each of these columns. We will also print out the value counts before and after translation to ensure that the process ran adequately, without compromising our data:"
   ]
  },
  {
   "cell_type": "code",
   "execution_count": 7,
   "id": "e9ae3000",
   "metadata": {},
   "outputs": [
    {
     "name": "stdout",
     "output_type": "stream",
     "text": [
      "before translating \n",
      "\n",
      "limousine     95894\n",
      "kleinwagen    80023\n",
      "kombi         67564\n",
      "NaN           37869\n",
      "bus           30201\n",
      "cabrio        22898\n",
      "coupe         19015\n",
      "suv           14707\n",
      "andere         3357\n",
      "Name: vehicle_type, dtype: int64\n",
      "\n",
      " after translating\n",
      "limousine      95894\n",
      "small car      80023\n",
      "combo          67564\n",
      "NaN            37869\n",
      "bus            30201\n",
      "convertible    22898\n",
      "coupe          19015\n",
      "suv            14707\n",
      "other           3357\n",
      "Name: vehicle_type, dtype: int64\n",
      "------------------------------\n",
      "before translating \n",
      "\n",
      "manuell      274214\n",
      "automatik     77105\n",
      "NaN           20209\n",
      "Name: gear_box, dtype: int64\n",
      "\n",
      " after translating\n",
      "manual       274214\n",
      "automatic     77105\n",
      "NaN           20209\n",
      "Name: gear_box, dtype: int64\n",
      "------------------------------\n",
      "before translating \n",
      "\n",
      "benzin     223857\n",
      "diesel     107746\n",
      "NaN         33386\n",
      "lpg          5378\n",
      "cng           571\n",
      "hybrid        278\n",
      "andere        208\n",
      "elektro       104\n",
      "Name: fuel_type, dtype: int64\n",
      "\n",
      " after translating\n",
      "gasoline       223857\n",
      "diesel         107746\n",
      "NaN             33386\n",
      "lpg              5378\n",
      "natural gas       571\n",
      "hybrid            278\n",
      "other             208\n",
      "electric          104\n",
      "Name: fuel_type, dtype: int64\n",
      "------------------------------\n",
      "before translating \n",
      "\n",
      "nein    263182\n",
      "NaN      72060\n",
      "ja       36286\n",
      "Name: unrepaired_damage, dtype: int64\n",
      "\n",
      " after translating\n",
      "no     263182\n",
      "NaN     72060\n",
      "yes     36286\n",
      "Name: unrepaired_damage, dtype: int64\n",
      "------------------------------\n"
     ]
    }
   ],
   "source": [
    "for item in german_columns:\n",
    "    print('before translating', '\\n')\n",
    "    print(autos[item].value_counts(dropna=False))\n",
    "    \n",
    "    print('\\n','after translating')\n",
    "    translate_column(autos, item, translations)\n",
    "    print(autos[item].value_counts(dropna=False))  \n",
    "    print('-'*30)"
   ]
  },
  {
   "cell_type": "markdown",
   "id": "9ba6e2e6",
   "metadata": {},
   "source": [
    "### 6. Identifying pattern in name column\n",
    "\n",
    "the name column is a long string and can give us some additional information. For example, we can see that in the `model` column there are some empty values that we can filled with the first string before the underscore of `name` column to enhance our DataFrame. So when the `model` column is missing, we fill with this key word from `name`"
   ]
  },
  {
   "cell_type": "code",
   "execution_count": 8,
   "id": "f3bbc277",
   "metadata": {},
   "outputs": [
    {
     "name": "stdout",
     "output_type": "stream",
     "text": [
      "0               Golf\n",
      "1                 A5\n",
      "2               Jeep\n",
      "3               GOLF\n",
      "4              Skoda\n",
      "             ...    \n",
      "371523         Suche\n",
      "371524         Smart\n",
      "371525    Volkswagen\n",
      "371526            VW\n",
      "371527           BMW\n",
      "Name: name, Length: 371528, dtype: object\n",
      "                             name  model\n",
      "0                      Golf_3_1.6   golf\n",
      "1            A5_Sportback_2.7_Tdi     A5\n",
      "2  Jeep_Grand_Cherokee_\"Overland\"  grand\n",
      "3              GOLF_4_1_4__3TÜRER   golf\n",
      "4  Skoda_Fabia_1.4_TDI_PD_Classic  fabia\n"
     ]
    }
   ],
   "source": [
    "model_by_name = autos['name'].str.split('_').str[0]\n",
    "autos['model_by_name'] = model_by_name\n",
    "autos.loc[autos['model'].isnull(),'model'] = autos['model_by_name']\n",
    "\n",
    "print(model_by_name)\n",
    "print(autos[['name','model']].head())"
   ]
  },
  {
   "cell_type": "markdown",
   "id": "d38b42b3",
   "metadata": {},
   "source": [
    "### 7. Removing 'price' rows outliers\n",
    "\n",
    "As observed earlier, the `25th`, `50th` and `75th` percentile of the prices are `1,100`, `2,950` and `7,200`. We will use a selection method to create a “data fence” from our 25th to 75th percentiles. Any data beyond this fence will be considered an outlier.\n",
    "\n",
    "We already have enough information to calculate our interquartile range IQR. We will use the equation below to determine our upper and lower price fences:\n",
    "\n",
    "    Interquartile Range (IQR) = 75th Percentile - 25th Percentile\n",
    "    Lower fence = 25th Percentile - 1.5*(IQR)\n",
    "    Upper fence = 75th Percentile + 1.5*(IQR)\n",
    "    \n",
    "Lets define all these boundaries in the code cell below and remove the limits:"
   ]
  },
  {
   "cell_type": "code",
   "execution_count": 9,
   "id": "5a1a176a",
   "metadata": {},
   "outputs": [
    {
     "name": "stdout",
     "output_type": "stream",
     "text": [
      "Interquartile Range:  6100\n",
      "Lower fence:  -8050.0\n",
      "Upper fence:  16350.0\n",
      "(3402,)\n"
     ]
    }
   ],
   "source": [
    "price_25, price_75 = (1100, 7200)\n",
    "\n",
    "IQR = price_75 - price_25\n",
    "lower_fence = price_25 - (1.5*IQR)\n",
    "upper_fence = price_75 + (1.5*IQR)\n",
    "\n",
    "print('Interquartile Range: ', IQR)\n",
    "print('Lower fence: ', lower_fence)\n",
    "print('Upper fence: ', upper_fence)\n",
    "\n",
    "autos = autos[autos['price'].between(lower_fence, upper_fence)]\n",
    "print(autos['price'].unique().shape)"
   ]
  },
  {
   "cell_type": "markdown",
   "id": "b084377d",
   "metadata": {},
   "source": [
    "### 8. Investigating date columns\n",
    "\n",
    "As we mentioned in the first impressions section, there are 5 columns that should represent date values. Some of these columns were created by the crawler, some came from the website itself. We can differentiate by referring to the data dictionary.\n",
    "\n",
    "Right now, the `date_crawled`, `last_seen`, and `ad_created` columns are all identified as string values by pandas. Because these three columns are represented as strings, we need to convert the data into a numerical representation so we can understand it quantitatively. The other two columns are represented as numeric values, so we can use methods like .describe() to understand the distribution without any extra data processing."
   ]
  },
  {
   "cell_type": "code",
   "execution_count": 10,
   "id": "483eb3ea",
   "metadata": {},
   "outputs": [
    {
     "data": {
      "text/html": [
       "<div>\n",
       "<style scoped>\n",
       "    .dataframe tbody tr th:only-of-type {\n",
       "        vertical-align: middle;\n",
       "    }\n",
       "\n",
       "    .dataframe tbody tr th {\n",
       "        vertical-align: top;\n",
       "    }\n",
       "\n",
       "    .dataframe thead th {\n",
       "        text-align: right;\n",
       "    }\n",
       "</style>\n",
       "<table border=\"1\" class=\"dataframe\">\n",
       "  <thead>\n",
       "    <tr style=\"text-align: right;\">\n",
       "      <th></th>\n",
       "      <th>date_crawled</th>\n",
       "      <th>ad_created</th>\n",
       "      <th>last_seen</th>\n",
       "    </tr>\n",
       "  </thead>\n",
       "  <tbody>\n",
       "    <tr>\n",
       "      <th>0</th>\n",
       "      <td>2016-03-24 11:52:17</td>\n",
       "      <td>2016-03-24 00:00:00</td>\n",
       "      <td>2016-04-07 03:16:57</td>\n",
       "    </tr>\n",
       "    <tr>\n",
       "      <th>2</th>\n",
       "      <td>2016-03-14 12:52:21</td>\n",
       "      <td>2016-03-14 00:00:00</td>\n",
       "      <td>2016-04-05 12:47:46</td>\n",
       "    </tr>\n",
       "    <tr>\n",
       "      <th>3</th>\n",
       "      <td>2016-03-17 16:54:04</td>\n",
       "      <td>2016-03-17 00:00:00</td>\n",
       "      <td>2016-03-17 17:40:17</td>\n",
       "    </tr>\n",
       "    <tr>\n",
       "      <th>4</th>\n",
       "      <td>2016-03-31 17:25:20</td>\n",
       "      <td>2016-03-31 00:00:00</td>\n",
       "      <td>2016-04-06 10:17:21</td>\n",
       "    </tr>\n",
       "    <tr>\n",
       "      <th>5</th>\n",
       "      <td>2016-04-04 17:36:23</td>\n",
       "      <td>2016-04-04 00:00:00</td>\n",
       "      <td>2016-04-06 19:17:07</td>\n",
       "    </tr>\n",
       "  </tbody>\n",
       "</table>\n",
       "</div>"
      ],
      "text/plain": [
       "          date_crawled           ad_created            last_seen\n",
       "0  2016-03-24 11:52:17  2016-03-24 00:00:00  2016-04-07 03:16:57\n",
       "2  2016-03-14 12:52:21  2016-03-14 00:00:00  2016-04-05 12:47:46\n",
       "3  2016-03-17 16:54:04  2016-03-17 00:00:00  2016-03-17 17:40:17\n",
       "4  2016-03-31 17:25:20  2016-03-31 00:00:00  2016-04-06 10:17:21\n",
       "5  2016-04-04 17:36:23  2016-04-04 00:00:00  2016-04-06 19:17:07"
      ]
     },
     "execution_count": 10,
     "metadata": {},
     "output_type": "execute_result"
    }
   ],
   "source": [
    "autos[['date_crawled','ad_created','last_seen']][0:5]"
   ]
  },
  {
   "cell_type": "markdown",
   "id": "a89759bb",
   "metadata": {},
   "source": [
    "We can see that the same pattern is used in the 3 fields, they use full timestamp. Let's just take the dates for now and understand the range."
   ]
  },
  {
   "cell_type": "code",
   "execution_count": 11,
   "id": "2c6c7f0f",
   "metadata": {},
   "outputs": [
    {
     "name": "stdout",
     "output_type": "stream",
     "text": [
      "Total unique days: 34\n",
      "Top 5 dates:\n",
      "2016-03-05    0.025702\n",
      "2016-03-06    0.014494\n",
      "2016-03-07    0.035738\n",
      "2016-03-08    0.033558\n",
      "2016-03-09    0.034233\n",
      "Name: date_crawled, dtype: float64\n"
     ]
    }
   ],
   "source": [
    "print('Total unique days:',autos['date_crawled'].str[:10].unique().size)\n",
    "print('Top 5 dates:')\n",
    "print(autos['date_crawled'].str[:10].value_counts(normalize=True, dropna=False).sort_index(ascending=True).head())"
   ]
  },
  {
   "cell_type": "code",
   "execution_count": 12,
   "id": "aa275e90",
   "metadata": {},
   "outputs": [
    {
     "name": "stdout",
     "output_type": "stream",
     "text": [
      "Total unique days: 109\n",
      "Top 5 dates:\n",
      "2014-03-10    0.000003\n",
      "2015-03-20    0.000003\n",
      "2015-06-18    0.000003\n",
      "2015-08-07    0.000003\n",
      "2015-08-10    0.000003\n",
      "Name: ad_created, dtype: float64\n"
     ]
    }
   ],
   "source": [
    "print('Total unique days:',autos['ad_created'].str[:10].unique().size)\n",
    "print('Top 5 dates:')\n",
    "print(autos['ad_created'].str[:10].value_counts(normalize=True, dropna=False).sort_index(ascending=True).head())"
   ]
  },
  {
   "cell_type": "code",
   "execution_count": 13,
   "id": "65961875",
   "metadata": {},
   "outputs": [
    {
     "name": "stdout",
     "output_type": "stream",
     "text": [
      "Total unique days: 34\n",
      "Top 5 dates:\n",
      "2016-03-05    0.001350\n",
      "2016-03-06    0.004357\n",
      "2016-03-07    0.005483\n",
      "2016-03-08    0.008437\n",
      "2016-03-09    0.010431\n",
      "Name: last_seen, dtype: float64\n"
     ]
    }
   ],
   "source": [
    "print('Total unique days:',autos['last_seen'].str[:10].unique().size)\n",
    "print('Top 5 dates:')\n",
    "print(autos['last_seen'].str[:10].value_counts(normalize=True, dropna=False).sort_index(ascending=True).head())"
   ]
  },
  {
   "cell_type": "markdown",
   "id": "049a84b5",
   "metadata": {},
   "source": [
    "Now let's investigate `registration_year` column, already as number."
   ]
  },
  {
   "cell_type": "code",
   "execution_count": 14,
   "id": "5948b482",
   "metadata": {},
   "outputs": [
    {
     "data": {
      "text/plain": [
       "count    343588.000000\n",
       "mean       2004.037661\n",
       "std          89.287534\n",
       "min        1000.000000\n",
       "25%        1999.000000\n",
       "50%        2003.000000\n",
       "75%        2007.000000\n",
       "max        9999.000000\n",
       "Name: registration_year, dtype: float64"
      ]
     },
     "execution_count": 14,
     "metadata": {},
     "output_type": "execute_result"
    }
   ],
   "source": [
    "autos.registration_year.describe()"
   ]
  },
  {
   "cell_type": "markdown",
   "id": "6b5875eb",
   "metadata": {},
   "source": [
    "We can see that this field clearly have outliers values. Minimum value is the year of 1000, when cars wasen't invented which is 1886. We aso have dates afther the current year, like 9999.\n",
    "In this case we will need to set maximum and minimum limits, and in this case we can use qualitative reasons:\n",
    "\n",
    "    * Minimum: 1908. The year when one of the first cars accessible to the masses was developed (Model T), in 1908 by Ford Motor Company.\n",
    "    * Maximum: 2021. Last year."
   ]
  },
  {
   "cell_type": "code",
   "execution_count": 15,
   "id": "483716cd",
   "metadata": {},
   "outputs": [
    {
     "data": {
      "text/plain": [
       "count    343421.000000\n",
       "mean       2002.907099\n",
       "std           7.443518\n",
       "min        1910.000000\n",
       "25%        1999.000000\n",
       "50%        2003.000000\n",
       "75%        2007.000000\n",
       "max        2019.000000\n",
       "Name: registration_year, dtype: float64"
      ]
     },
     "execution_count": 15,
     "metadata": {},
     "output_type": "execute_result"
    }
   ],
   "source": [
    "autos = autos[autos['registration_year'].between(1908, 2021)]\n",
    "autos.registration_year.describe()"
   ]
  },
  {
   "cell_type": "markdown",
   "id": "6d5a258d",
   "metadata": {},
   "source": [
    "### 9. Converting data to integer\n",
    "\n",
    "As we saw, the `date_crawled`, `last_seen`, and `ad_created` columns are all identified as string values by Pandas. Lets convert in them to integer using only the 10 first characters so dates become uniform numeric data. \"2016-03-21\" becomes the integer 20160321."
   ]
  },
  {
   "cell_type": "code",
   "execution_count": 16,
   "id": "e5806a3f",
   "metadata": {},
   "outputs": [
    {
     "name": "stdout",
     "output_type": "stream",
     "text": [
      "   date_crawled  last_seen  ad_created\n",
      "0      20160324   20160407    20160324\n",
      "2      20160314   20160405    20160314\n",
      "3      20160317   20160317    20160317\n",
      "4      20160331   20160406    20160331\n",
      "5      20160404   20160406    20160404\n",
      "\n",
      "\n",
      "<class 'pandas.core.frame.DataFrame'>\n",
      "Int64Index: 343421 entries, 0 to 371526\n",
      "Data columns (total 3 columns):\n",
      " #   Column        Non-Null Count   Dtype\n",
      "---  ------        --------------   -----\n",
      " 0   date_crawled  343421 non-null  int32\n",
      " 1   last_seen     343421 non-null  int32\n",
      " 2   ad_created    343421 non-null  int32\n",
      "dtypes: int32(3)\n",
      "memory usage: 6.6 MB\n",
      "None\n"
     ]
    }
   ],
   "source": [
    "#Removing '-' character and selecting only the first 8 characters\n",
    "autos['date_crawled'] = autos['date_crawled'].str.replace('-','').str[:8]\n",
    "autos['last_seen'] = autos['last_seen'].str.replace('-','').str[:8]\n",
    "autos['ad_created'] = autos['ad_created'].str.replace('-','').str[:8]\n",
    "\n",
    "#Converting string to integer\n",
    "autos['date_crawled'] = autos['date_crawled'].astype(int)\n",
    "autos['last_seen'] = autos['last_seen'].astype(int)\n",
    "autos['ad_created'] = autos['ad_created'].astype(int)\n",
    "\n",
    "print(autos[['date_crawled', 'last_seen', 'ad_created']].head())\n",
    "print('\\n')\n",
    "print(autos[['date_crawled', 'last_seen', 'ad_created']].info())"
   ]
  },
  {
   "cell_type": "markdown",
   "id": "5bc10ace",
   "metadata": {},
   "source": [
    "### 10. Analysing data by brand\n",
    "\n",
    "When working with data on cars, it's natural to explore variations across different car brands. We will use aggregation to understand the brand column."
   ]
  },
  {
   "cell_type": "code",
   "execution_count": 17,
   "id": "b396bca0",
   "metadata": {},
   "outputs": [
    {
     "name": "stdout",
     "output_type": "stream",
     "text": [
      "volkswagen        74747\n",
      "opel              39608\n",
      "bmw               34968\n",
      "mercedes_benz     30168\n",
      "audi              27672\n",
      "ford              24744\n",
      "renault           17842\n",
      "peugeot           10909\n",
      "fiat               9600\n",
      "seat               6771\n",
      "mazda              5530\n",
      "skoda              5312\n",
      "smart              5237\n",
      "citroen            5105\n",
      "nissan             4809\n",
      "toyota             4523\n",
      "hyundai            3480\n",
      "sonstige_autos     3139\n",
      "volvo              3097\n",
      "mitsubishi         2982\n",
      "mini               2907\n",
      "honda              2787\n",
      "kia                2360\n",
      "suzuki             2310\n",
      "alfa_romeo         2275\n",
      "chevrolet          1686\n",
      "chrysler           1418\n",
      "dacia               895\n",
      "daihatsu            806\n",
      "subaru              738\n",
      "jeep                631\n",
      "porsche             605\n",
      "trabant             586\n",
      "daewoo              542\n",
      "saab                516\n",
      "rover               484\n",
      "land_rover          477\n",
      "lancia              468\n",
      "jaguar              462\n",
      "lada                225\n",
      "Name: brand, dtype: int64\n"
     ]
    }
   ],
   "source": [
    "unique_brands = autos['brand'].value_counts()\n",
    "top_brands = unique_brands[:10].index\n",
    "print(unique_brands)"
   ]
  },
  {
   "cell_type": "markdown",
   "id": "791e4bc1",
   "metadata": {},
   "source": [
    "Lets filter and only analyse the top 10 brands. Lets use for loop to get the mean value for each of the top 10 brands."
   ]
  },
  {
   "cell_type": "code",
   "execution_count": 18,
   "id": "6ff939a2",
   "metadata": {},
   "outputs": [
    {
     "name": "stdout",
     "output_type": "stream",
     "text": [
      "volkswagen : 3972.72\n",
      "opel : 2611.43\n",
      "bmw : 5502.6\n",
      "mercedes_benz : 5151.43\n",
      "audi : 5476.94\n",
      "ford : 2917.89\n",
      "renault : 2196.4\n",
      "peugeot : 2995.38\n",
      "fiat : 2635.25\n",
      "seat : 3716.63\n"
     ]
    }
   ],
   "source": [
    "brand_price_dictionary = {}\n",
    "for brand in top_brands:\n",
    "    mean_price = autos.loc[autos['brand'] == brand,'price'].mean()\n",
    "    brand_price_dictionary[brand] = round(mean_price,2)\n",
    "for item in brand_price_dictionary:\n",
    "    print(item,\":\",brand_price_dictionary[item])"
   ]
  },
  {
   "cell_type": "markdown",
   "id": "987d9ba8",
   "metadata": {},
   "source": [
    "We observed that in the top 10 brands, there's a distinct price gap.\n",
    "\n",
    " - BMW, Audi and Mercedes Benz are more expensive\n",
    " - Renault, Opel, Fiat, Ford and Peugeot are less expensive\n",
    " - Volkswagen and Seat is in between\n",
    " \n",
    "Lets do the same for kilometers to see if we have significant changes in cars usage between the brands:"
   ]
  },
  {
   "cell_type": "code",
   "execution_count": 19,
   "id": "38bc0886",
   "metadata": {},
   "outputs": [
    {
     "name": "stdout",
     "output_type": "stream",
     "text": [
      "volkswagen : 132652\n",
      "opel : 130003\n",
      "bmw : 138925\n",
      "mercedes_benz : 137352\n",
      "audi : 138574\n",
      "ford : 126102\n",
      "renault : 128636\n",
      "peugeot : 125839\n",
      "fiat : 117348\n",
      "seat : 124360\n"
     ]
    }
   ],
   "source": [
    "brand_km_dictionary = {}\n",
    "for brand in top_brands:\n",
    "    mean_km = autos.loc[autos['brand'] == brand,'kilometer'].mean()\n",
    "    brand_km_dictionary[brand] = round(mean_km)\n",
    "for item in brand_km_dictionary:\n",
    "    print(item,\":\",brand_km_dictionary[item])"
   ]
  },
  {
   "cell_type": "markdown",
   "id": "134a00ff",
   "metadata": {},
   "source": [
    "Now that we have both dictionarys, lets create first a panda series and a panda dataframe with our first dictionary. Then convert the other dictionary into a Series to add as a new column in the brand new DataFrame."
   ]
  },
  {
   "cell_type": "code",
   "execution_count": 20,
   "id": "955b2dae",
   "metadata": {},
   "outputs": [
    {
     "name": "stdout",
     "output_type": "stream",
     "text": [
      "               mean_price  mean_km\n",
      "volkswagen        3972.72   132652\n",
      "opel              2611.43   130003\n",
      "bmw               5502.60   138925\n",
      "mercedes_benz     5151.43   137352\n",
      "audi              5476.94   138574\n",
      "ford              2917.89   126102\n",
      "renault           2196.40   128636\n",
      "peugeot           2995.38   125839\n",
      "fiat              2635.25   117348\n",
      "seat              3716.63   124360\n"
     ]
    }
   ],
   "source": [
    "brand_price_series = pd.Series(brand_price_dictionary)\n",
    "new_dataframe = pd.DataFrame(brand_price_series, columns=['mean_price'])\n",
    "brand_km_series = pd.Series(brand_km_dictionary)\n",
    "new_dataframe['mean_km'] = brand_km_series\n",
    "print(new_dataframe)"
   ]
  },
  {
   "cell_type": "markdown",
   "id": "aa5aaed4",
   "metadata": {},
   "source": [
    "### 11. Finding the most common brand/model combinations"
   ]
  },
  {
   "cell_type": "code",
   "execution_count": 21,
   "id": "60bafbc0",
   "metadata": {
    "scrolled": true
   },
   "outputs": [
    {
     "name": "stdout",
     "output_type": "stream",
     "text": [
      "               mean_price  mean_km most_common_model\n",
      "volkswagen        3972.72   132652              golf\n",
      "opel              2611.43   130003             corsa\n",
      "bmw               5502.60   138925               3er\n",
      "mercedes_benz     5151.43   137352          c_klasse\n",
      "audi              5476.94   138574                a4\n",
      "ford              2917.89   126102             focus\n",
      "renault           2196.40   128636            twingo\n",
      "peugeot           2995.38   125839           2_reihe\n",
      "fiat              2635.25   117348             punto\n",
      "seat              3716.63   124360             ibiza\n"
     ]
    }
   ],
   "source": [
    "common_model_dic = {}\n",
    "\n",
    "for brand in top_brands:\n",
    "    common_model = autos.loc[autos['brand'] == brand,'model'].value_counts(ascending=False).index[0]\n",
    "    common_model_dic[brand] = common_model\n",
    "    \n",
    "common_model_series = pd.Series(common_model_dic)\n",
    "new_dataframe['most_common_model'] = common_model_series\n",
    "print(new_dataframe)"
   ]
  },
  {
   "cell_type": "markdown",
   "id": "4929c6bf",
   "metadata": {},
   "source": [
    "### 12. Checking if mileage affects price\n",
    "\n",
    "First, lets have a overview of our `kilometer` column."
   ]
  },
  {
   "cell_type": "code",
   "execution_count": 22,
   "id": "3a66bebe",
   "metadata": {},
   "outputs": [
    {
     "name": "stdout",
     "output_type": "stream",
     "text": [
      "count    343421.000000\n",
      "mean     129466.675014\n",
      "std       36878.600018\n",
      "min        5000.000000\n",
      "25%      125000.000000\n",
      "50%      150000.000000\n",
      "75%      150000.000000\n",
      "max      150000.000000\n",
      "Name: kilometer, dtype: float64\n",
      "\n",
      "\n",
      "[150000 125000  90000  40000  30000   5000 100000  60000  70000  80000\n",
      "  50000  20000  10000]\n"
     ]
    }
   ],
   "source": [
    "print(autos['kilometer'].describe())\n",
    "print('\\n')\n",
    "print(autos['kilometer'].unique())"
   ]
  },
  {
   "cell_type": "markdown",
   "id": "4a3ca883",
   "metadata": {},
   "source": [
    "Looks like the column is already grouped by some mileage ranges, so we don't need to group the data for this analysis. Now, we will get the mean price value for each mileage range."
   ]
  },
  {
   "cell_type": "code",
   "execution_count": 23,
   "id": "814c0f35",
   "metadata": {},
   "outputs": [
    {
     "name": "stdout",
     "output_type": "stream",
     "text": [
      "KM 150000 : $ 3183.64\n",
      "KM 125000 : $ 4671.62\n",
      "KM 90000 : $ 5930.84\n",
      "KM 40000 : $ 8263.82\n",
      "KM 30000 : $ 7767.99\n",
      "KM 5000 : $ 2342.63\n",
      "KM 100000 : $ 5366.39\n",
      "KM 60000 : $ 7424.94\n",
      "KM 70000 : $ 6903.88\n",
      "KM 80000 : $ 6354.74\n",
      "KM 50000 : $ 7790.96\n",
      "KM 20000 : $ 6926.13\n",
      "KM 10000 : $ 7664.88\n"
     ]
    }
   ],
   "source": [
    "mileage_dic = {}\n",
    "unique_km = autos['kilometer'].unique()\n",
    "\n",
    "for item in unique_km:\n",
    "    mean_price = autos.loc[autos['kilometer'] == item,'price'].mean()\n",
    "    mileage_dic[item] = round(mean_price,2)\n",
    "    \n",
    "for item in mileage_dic:\n",
    "    print('KM',item,\":\",'$',mileage_dic[item])"
   ]
  },
  {
   "cell_type": "markdown",
   "id": "b0ef7efc",
   "metadata": {},
   "source": [
    "Mileage doesn't seem to have exactly a pattern and a very strong correlation with the price of cars. Especially the 5,000km cars that have a considerably lower price than the others. My suspicion looking at this information is that the amount of cars with 5,000km is low and by randomness they can be cheaper cars (worse brands or inferior models). Or the sample is also small and there are cars with incorrect and/or very low values, which can bias and pull the average value down.\n",
    "\n",
    "Lets confirm or deny by looking by counting the amount of cars for each mileage cohort."
   ]
  },
  {
   "cell_type": "code",
   "execution_count": 24,
   "id": "a9ceeff9",
   "metadata": {},
   "outputs": [
    {
     "data": {
      "text/plain": [
       "150000    235329\n",
       "125000     35266\n",
       "100000     14219\n",
       "90000      10886\n",
       "80000       9290\n",
       "70000       7811\n",
       "60000       6654\n",
       "5000        6133\n",
       "50000       5430\n",
       "40000       4220\n",
       "30000       3805\n",
       "20000       3423\n",
       "10000        955\n",
       "Name: kilometer, dtype: int64"
      ]
     },
     "execution_count": 24,
     "metadata": {},
     "output_type": "execute_result"
    }
   ],
   "source": [
    "autos['kilometer'].value_counts()"
   ]
  },
  {
   "cell_type": "markdown",
   "id": "7924c143",
   "metadata": {},
   "source": [
    "Apparently our hypothesis was wrong, there are not so few records with 5,000 km cars. Another hypothesis is that cars from better brands (we have already seen that the brand has a strong correlation with the price) usually stay longer with the owner and are only offered for sale after having driven many more kilometers.\n",
    "\n",
    "Let's group the brands we've seen that have the most expensive cars into \"premium brands\" and see how much they represent within each mileage cohort."
   ]
  },
  {
   "cell_type": "code",
   "execution_count": 25,
   "id": "e7c8ceca",
   "metadata": {},
   "outputs": [
    {
     "name": "stdout",
     "output_type": "stream",
     "text": [
      "KM 150000 : 31.88 %\n",
      "KM 125000 : 19.44 %\n",
      "KM 90000 : 16.31 %\n",
      "KM 40000 : 9.22 %\n",
      "KM 30000 : 12.09 %\n",
      "KM 5000 : 22.21 %\n",
      "KM 100000 : 17.54 %\n",
      "KM 60000 : 12.74 %\n",
      "KM 70000 : 13.52 %\n",
      "KM 80000 : 15.83 %\n",
      "KM 50000 : 9.87 %\n",
      "KM 20000 : 12.77 %\n",
      "KM 10000 : 9.53 %\n"
     ]
    }
   ],
   "source": [
    "premium_brands_mileage_dic = {}\n",
    "\n",
    "for item in unique_km:\n",
    "    premium = autos.loc[\n",
    "          (autos['kilometer'] == item)\n",
    "          & ((autos['brand'] == 'bmw') | (autos['brand'] == 'audi') | (autos['brand'] == 'mercedes_benz')),:].size\n",
    "    total = autos[autos['kilometer'] == item].size\n",
    "    penetration = premium / total * 100\n",
    "    premium_brands_mileage_dic[item] = round(penetration,2)\n",
    "\n",
    "for item in premium_brands_mileage_dic:\n",
    "    print('KM',item,\":\",premium_brands_mileage_dic[item],'%')"
   ]
  },
  {
   "cell_type": "markdown",
   "id": "19fb4a15",
   "metadata": {},
   "source": [
    "Again our hypothesis does not prove to be true, due to the high concentration of luxury brand cars being within the 5,000km group (2nd largest concentration).\n",
    "\n",
    "Another important variable in the price composition may be the year of registration of the vehicle, the older ones may tend to be cheaper. Let's see if in fact the year has a significant correlation with the price.\n",
    "\n",
    "Below we will group the years between `before_90s`, `year_90s`, `year_00s` and `after_2010`."
   ]
  },
  {
   "cell_type": "code",
   "execution_count": 26,
   "id": "490ffff3",
   "metadata": {},
   "outputs": [
    {
     "name": "stdout",
     "output_type": "stream",
     "text": [
      "before_90s : $ 4202.53\n",
      "year_90s : $ 1474.16\n",
      "year_00s : $ 4469.5\n",
      "after_2010 : $ 6608.53\n"
     ]
    }
   ],
   "source": [
    "old_cars_dic = {}\n",
    "\n",
    "before_90s = autos.loc[autos['registration_year'] < 1990,'price'].mean()\n",
    "year_90s = autos.loc[autos['registration_year'].between(1990,1999),'price'].mean()\n",
    "year_00s = autos.loc[autos['registration_year'].between(2000,2009),'price'].mean()\n",
    "after_2010 = autos.loc[autos['registration_year'] >= 2010,'price'].mean()\n",
    "\n",
    "old_cars_dic['before_90s'] = round(before_90s,2)\n",
    "old_cars_dic['year_90s'] = round(year_90s,2)\n",
    "old_cars_dic['year_00s'] = round(year_00s,2)\n",
    "old_cars_dic['after_2010'] = round(after_2010,2)\n",
    "    \n",
    "for item in old_cars_dic:\n",
    "    print(item,\":\",'$',old_cars_dic[item])"
   ]
  },
  {
   "cell_type": "markdown",
   "id": "6924feb8",
   "metadata": {},
   "source": [
    "Excellent. It looks like we actually have a strong correlation. Also, vintage cars are cheaper to some extent, as pre-90s cars appreciate in value, likely for their scarcity and collector car profile.\n",
    "\n",
    "Let's use these same groups to create a DataFrame containing a table of frequency in relation to the percentage of representation of each of these groups. With the year groups on the axis and the mileage on the column."
   ]
  },
  {
   "cell_type": "code",
   "execution_count": 27,
   "id": "59c92811",
   "metadata": {},
   "outputs": [],
   "source": [
    "before_90s_dic = {}\n",
    "year_90s_dic = {}\n",
    "year_00s_dic = {}\n",
    "after_2010_dic = {}\n",
    "\n",
    "for item in unique_km:\n",
    "    recent = autos.loc[\n",
    "          (autos['kilometer'] == item)\n",
    "          & (autos['registration_year'] < 1990),:].size\n",
    "    total = autos[autos['kilometer'] == item].size\n",
    "    penetration = recent / total * 100\n",
    "    before_90s_dic[item] = round(penetration,2)\n",
    "    \n",
    "for item in unique_km:\n",
    "    recent = autos.loc[\n",
    "          (autos['kilometer'] == item)\n",
    "          & (autos['registration_year'].between(1990,1999)),:].size\n",
    "    total = autos[autos['kilometer'] == item].size\n",
    "    penetration = recent / total * 100\n",
    "    year_90s_dic[item] = round(penetration,2)\n",
    "    \n",
    "for item in unique_km:\n",
    "    recent = autos.loc[\n",
    "          (autos['kilometer'] == item)\n",
    "          & (autos['registration_year'].between(2000,2009)),:].size\n",
    "    total = autos[autos['kilometer'] == item].size\n",
    "    penetration = recent / total * 100\n",
    "    year_00s_dic[item] = round(penetration,2)\n",
    "    \n",
    "for item in unique_km:\n",
    "    recent = autos.loc[\n",
    "          (autos['kilometer'] == item)\n",
    "          & (autos['registration_year'] >= 2010),:].size\n",
    "    total = autos[autos['kilometer'] == item].size\n",
    "    penetration = recent / total * 100\n",
    "    after_2010_dic[item] = round(penetration,2)"
   ]
  },
  {
   "cell_type": "code",
   "execution_count": 28,
   "id": "5594339c",
   "metadata": {},
   "outputs": [
    {
     "name": "stdout",
     "output_type": "stream",
     "text": [
      "        before_90s  year_90s  year_00s  after_2010\n",
      "150000        1.90     32.54     55.78        9.77\n",
      "125000        2.15     18.58     65.28       13.99\n",
      "90000         3.43     13.87     60.03       22.67\n",
      "40000         5.07      5.17     26.47       63.29\n",
      "30000         5.28      9.09     21.73       63.89\n",
      "5000         13.45     29.46     34.88       22.21\n",
      "100000        5.09     15.66     61.31       17.94\n",
      "60000         4.66      7.32     43.58       44.44\n",
      "70000         4.25      9.38     51.04       35.32\n",
      "80000         4.17     11.55     56.34       27.94\n",
      "50000         5.03      6.06     34.83       54.09\n",
      "20000         5.78     13.53     26.15       54.54\n",
      "10000        13.19      7.75     16.96       62.09\n"
     ]
    }
   ],
   "source": [
    "before_90s_series = pd.Series(before_90s_dic)\n",
    "year_by_mile_df = pd.DataFrame(before_90s_series, columns=['before_90s'])\n",
    "\n",
    "year_90s_series = pd.Series(year_90s_dic)\n",
    "year_by_mile_df['year_90s'] = year_90s_series\n",
    "\n",
    "year_00s_series = pd.Series(year_00s_dic)\n",
    "year_by_mile_df['year_00s'] = year_00s_series\n",
    "\n",
    "after_2010_series = pd.Series(after_2010_dic)\n",
    "year_by_mile_df['after_2010'] = after_2010_series\n",
    "\n",
    "print(year_by_mile_df)"
   ]
  },
  {
   "cell_type": "markdown",
   "id": "88f36d54",
   "metadata": {},
   "source": [
    "### Conclusion\n",
    "\n",
    "We realized that the `brand` is an important variable in the composition of the vehicle's `price`, as well as the `year_of_registration`. For `kilometers`, the correlation with price is not so clear and we found that the unusually low price for cars in the 5,000km range is due to the high concentration of 90s cars in this group."
   ]
  },
  {
   "cell_type": "code",
   "execution_count": null,
   "id": "e31bc09b",
   "metadata": {},
   "outputs": [],
   "source": []
  }
 ],
 "metadata": {
  "kernelspec": {
   "display_name": "Python 3 (ipykernel)",
   "language": "python",
   "name": "python3"
  },
  "language_info": {
   "codemirror_mode": {
    "name": "ipython",
    "version": 3
   },
   "file_extension": ".py",
   "mimetype": "text/x-python",
   "name": "python",
   "nbconvert_exporter": "python",
   "pygments_lexer": "ipython3",
   "version": "3.9.7"
  }
 },
 "nbformat": 4,
 "nbformat_minor": 5
}
